{
  "nbformat": 4,
  "nbformat_minor": 0,
  "metadata": {
    "colab": {
      "name": "NLP Chatbot.ipynb",
      "provenance": [],
      "collapsed_sections": []
    },
    "kernelspec": {
      "name": "python3",
      "display_name": "Python 3"
    },
    "language_info": {
      "name": "python"
    },
    "accelerator": "GPU",
    "gpuClass": "standard"
  },
  "cells": [
    {
      "cell_type": "markdown",
      "source": [
        "# NLP Chatbot\n",
        "\n",
        "## Domain:\n",
        "Industrial safety. NLP based Chatbot.\n",
        "\n",
        "## Context:\n",
        "The database comes from one of the biggest industry in Brazil and in the world. It is an urgent need for industries/companies around the\n",
        "globe to understand why employees still suffer some injuries/accidents in plants. Sometimes they also die in such environment.\n",
        "\n",
        "## Data Description:\n",
        "This The database is basically records of accidents from 12 different plants in 03 different countries which every line in the data is an\n",
        "occurrence of an accident.\n",
        "Columns description:\n",
        "‣ Data: timestamp or time/date information\n",
        "‣ Countries: which country the accident occurred (anonymised)\n",
        "‣ Local: the city where the manufacturing plant is located (anonymised)\n",
        "‣ Industry sector: which sector the plant belongs to\n",
        "‣ Accident level: from I to VI, it registers how severe was the accident (I means not severe but VI means very severe)\n",
        "‣ Potential Accident Level: Depending on the Accident Level, the database also registers how severe the accident could have been (due to other factors\n",
        "involved in the accident)\n",
        "‣ Genre: if the person is male of female\n",
        "‣ Employee or Third Party: if the injured person is an employee or a third party\n",
        "‣ Critical Risk: some description of the risk involved in the accident\n",
        "‣ Description: Detailed description of how the accident happened.\n",
        "Link to download the dataset: https://www.kaggle.com/ihmstefanini/industrial-safety-and-health-analytics-database [ for your reference only ]\n",
        "\n",
        "## Project Objective:\n",
        "Design a ML/DL based chatbot utility which can help the professionals to highlight the safety risk as per the incident description."
      ],
      "metadata": {
        "id": "Plnon6tq23k_"
      }
    },
    {
      "cell_type": "markdown",
      "source": [
        "# Industrial safety. NLP based Chatbot."
      ],
      "metadata": {
        "id": "vmNgTwFmrTup"
      }
    },
    {
      "cell_type": "markdown",
      "source": [
        "## PROJECT TASK:"
      ],
      "metadata": {
        "id": "E1tm8k8q3x52"
      }
    },
    {
      "cell_type": "markdown",
      "source": [
        "## Milestone 1:"
      ],
      "metadata": {
        "id": "-wwnIlFn33el"
      }
    },
    {
      "cell_type": "markdown",
      "source": [
        "### Input: Interim report"
      ],
      "metadata": {
        "id": "GULcXiKu4DXA"
      }
    },
    {
      "cell_type": "markdown",
      "source": [
        "### Process:"
      ],
      "metadata": {
        "id": "48ArLAWc4NB1"
      }
    },
    {
      "cell_type": "markdown",
      "source": [
        "### Step 1: Import the data"
      ],
      "metadata": {
        "id": "5Al2iw2araOw"
      }
    },
    {
      "cell_type": "code",
      "source": [
        "!pip install nltk"
      ],
      "metadata": {
        "colab": {
          "base_uri": "https://localhost:8080/"
        },
        "id": "SXibXHl_1F-7",
        "outputId": "15539f37-07b3-4b5f-9d57-348c4304f37f"
      },
      "execution_count": 197,
      "outputs": [
        {
          "output_type": "stream",
          "name": "stdout",
          "text": [
            "Looking in indexes: https://pypi.org/simple, https://us-python.pkg.dev/colab-wheels/public/simple/\n",
            "Requirement already satisfied: nltk in /usr/local/lib/python3.7/dist-packages (3.7)\n",
            "Requirement already satisfied: tqdm in /usr/local/lib/python3.7/dist-packages (from nltk) (4.64.0)\n",
            "Requirement already satisfied: regex>=2021.8.3 in /usr/local/lib/python3.7/dist-packages (from nltk) (2022.6.2)\n",
            "Requirement already satisfied: click in /usr/local/lib/python3.7/dist-packages (from nltk) (7.1.2)\n",
            "Requirement already satisfied: joblib in /usr/local/lib/python3.7/dist-packages (from nltk) (1.1.0)\n"
          ]
        }
      ]
    },
    {
      "cell_type": "code",
      "execution_count": 198,
      "metadata": {
        "colab": {
          "base_uri": "https://localhost:8080/"
        },
        "id": "Y9enkjYCpjR2",
        "outputId": "5984d8aa-e206-4615-a11e-145fe2f2a70d"
      },
      "outputs": [
        {
          "output_type": "stream",
          "name": "stderr",
          "text": [
            "[nltk_data] Downloading package punkt to /root/nltk_data...\n",
            "[nltk_data]   Package punkt is already up-to-date!\n",
            "[nltk_data] Downloading package stopwords to /root/nltk_data...\n",
            "[nltk_data]   Package stopwords is already up-to-date!\n"
          ]
        }
      ],
      "source": [
        "import numpy as np\n",
        "import re\n",
        "import string\n",
        "import math\n",
        "import numpy as np\n",
        "import pandas as pd\n",
        "import seaborn as sns\n",
        "import matplotlib.pyplot as plt\n",
        "from sklearn.model_selection import train_test_split\n",
        "from sklearn.preprocessing import LabelEncoder\n",
        "from sklearn.metrics import accuracy_score, f1_score, roc_auc_score\n",
        "import os\n",
        "from sklearn.feature_extraction.text import TfidfVectorizer\n",
        "from nltk import tokenize,stem\n",
        "import nltk\n",
        "nltk.download('punkt')\n",
        "nltk.download('stopwords')\n",
        "from nltk.tokenize import word_tokenize\n",
        "from tqdm import tqdm\n",
        "from nltk.corpus import stopwords\n",
        "stop_words = stopwords.words('english')\n",
        "from keras.utils import np_utils\n",
        "from keras.layers import Input\n",
        "from keras.layers.merge import Concatenate\n",
        "from tensorflow.keras.models import Sequential\n",
        "from tensorflow.keras import optimizers\n",
        "from keras.models import Model\n",
        "from tensorflow.keras.layers import Flatten, Activation, Dense, LSTM, BatchNormalization, Embedding, Dropout, Flatten, Bidirectional, GlobalMaxPool1D\n",
        "from tensorflow.keras.preprocessing.text import Tokenizer\n",
        "from tensorflow.keras.preprocessing.sequence import pad_sequences\n",
        "from keras.models import load_model\n",
        "import warnings\n",
        "warnings.filterwarnings('ignore')"
      ]
    },
    {
      "cell_type": "markdown",
      "source": [
        "**Data** **Import**"
      ],
      "metadata": {
        "id": "CvfYtoTYmrql"
      }
    },
    {
      "cell_type": "code",
      "source": [
        "from google.colab import drive\n",
        "drive.mount('/content/drive/')"
      ],
      "metadata": {
        "id": "--MNcrTqreB6",
        "colab": {
          "base_uri": "https://localhost:8080/"
        },
        "outputId": "e8c63474-5b32-4479-e52f-a1e1daee3270"
      },
      "execution_count": 199,
      "outputs": [
        {
          "output_type": "stream",
          "name": "stdout",
          "text": [
            "Drive already mounted at /content/drive/; to attempt to forcibly remount, call drive.mount(\"/content/drive/\", force_remount=True).\n"
          ]
        }
      ]
    },
    {
      "cell_type": "code",
      "source": [
        "data_URL = '/content/drive/MyDrive/archive (1)/IHMStefanini_industrial_safety_and_health_database_with_accidents_description.csv'"
      ],
      "metadata": {
        "id": "CP5dGUt4l40E"
      },
      "execution_count": 200,
      "outputs": []
    },
    {
      "cell_type": "code",
      "source": [
        "df = pd.read_csv(data_URL)"
      ],
      "metadata": {
        "id": "yM-FBzUPmhUI"
      },
      "execution_count": 201,
      "outputs": []
    },
    {
      "cell_type": "code",
      "source": [
        "df.head(5)"
      ],
      "metadata": {
        "colab": {
          "base_uri": "https://localhost:8080/",
          "height": 354
        },
        "id": "C4ybSlI9mw6u",
        "outputId": "2c25dd47-4d7e-439a-a867-08a0bbba873f"
      },
      "execution_count": 202,
      "outputs": [
        {
          "output_type": "execute_result",
          "data": {
            "text/plain": [
              "   Unnamed: 0                 Data   Countries     Local Industry Sector  \\\n",
              "0           0  2016-01-01 00:00:00  Country_01  Local_01          Mining   \n",
              "1           1  2016-01-02 00:00:00  Country_02  Local_02          Mining   \n",
              "2           2  2016-01-06 00:00:00  Country_01  Local_03          Mining   \n",
              "3           3  2016-01-08 00:00:00  Country_01  Local_04          Mining   \n",
              "4           4  2016-01-10 00:00:00  Country_01  Local_04          Mining   \n",
              "\n",
              "  Accident Level Potential Accident Level Genre Employee or Third Party  \\\n",
              "0              I                       IV  Male             Third Party   \n",
              "1              I                       IV  Male                Employee   \n",
              "2              I                      III  Male    Third Party (Remote)   \n",
              "3              I                        I  Male             Third Party   \n",
              "4             IV                       IV  Male             Third Party   \n",
              "\n",
              "         Critical Risk                                        Description  \n",
              "0              Pressed  While removing the drill rod of the Jumbo 08 f...  \n",
              "1  Pressurized Systems  During the activation of a sodium sulphide pum...  \n",
              "2         Manual Tools  In the sub-station MILPO located at level +170...  \n",
              "3               Others  Being 9:45 am. approximately in the Nv. 1880 C...  \n",
              "4               Others  Approximately at 11:45 a.m. in circumstances t...  "
            ],
            "text/html": [
              "\n",
              "  <div id=\"df-966aa291-d4c1-4b88-9b56-5a2d28e69e13\">\n",
              "    <div class=\"colab-df-container\">\n",
              "      <div>\n",
              "<style scoped>\n",
              "    .dataframe tbody tr th:only-of-type {\n",
              "        vertical-align: middle;\n",
              "    }\n",
              "\n",
              "    .dataframe tbody tr th {\n",
              "        vertical-align: top;\n",
              "    }\n",
              "\n",
              "    .dataframe thead th {\n",
              "        text-align: right;\n",
              "    }\n",
              "</style>\n",
              "<table border=\"1\" class=\"dataframe\">\n",
              "  <thead>\n",
              "    <tr style=\"text-align: right;\">\n",
              "      <th></th>\n",
              "      <th>Unnamed: 0</th>\n",
              "      <th>Data</th>\n",
              "      <th>Countries</th>\n",
              "      <th>Local</th>\n",
              "      <th>Industry Sector</th>\n",
              "      <th>Accident Level</th>\n",
              "      <th>Potential Accident Level</th>\n",
              "      <th>Genre</th>\n",
              "      <th>Employee or Third Party</th>\n",
              "      <th>Critical Risk</th>\n",
              "      <th>Description</th>\n",
              "    </tr>\n",
              "  </thead>\n",
              "  <tbody>\n",
              "    <tr>\n",
              "      <th>0</th>\n",
              "      <td>0</td>\n",
              "      <td>2016-01-01 00:00:00</td>\n",
              "      <td>Country_01</td>\n",
              "      <td>Local_01</td>\n",
              "      <td>Mining</td>\n",
              "      <td>I</td>\n",
              "      <td>IV</td>\n",
              "      <td>Male</td>\n",
              "      <td>Third Party</td>\n",
              "      <td>Pressed</td>\n",
              "      <td>While removing the drill rod of the Jumbo 08 f...</td>\n",
              "    </tr>\n",
              "    <tr>\n",
              "      <th>1</th>\n",
              "      <td>1</td>\n",
              "      <td>2016-01-02 00:00:00</td>\n",
              "      <td>Country_02</td>\n",
              "      <td>Local_02</td>\n",
              "      <td>Mining</td>\n",
              "      <td>I</td>\n",
              "      <td>IV</td>\n",
              "      <td>Male</td>\n",
              "      <td>Employee</td>\n",
              "      <td>Pressurized Systems</td>\n",
              "      <td>During the activation of a sodium sulphide pum...</td>\n",
              "    </tr>\n",
              "    <tr>\n",
              "      <th>2</th>\n",
              "      <td>2</td>\n",
              "      <td>2016-01-06 00:00:00</td>\n",
              "      <td>Country_01</td>\n",
              "      <td>Local_03</td>\n",
              "      <td>Mining</td>\n",
              "      <td>I</td>\n",
              "      <td>III</td>\n",
              "      <td>Male</td>\n",
              "      <td>Third Party (Remote)</td>\n",
              "      <td>Manual Tools</td>\n",
              "      <td>In the sub-station MILPO located at level +170...</td>\n",
              "    </tr>\n",
              "    <tr>\n",
              "      <th>3</th>\n",
              "      <td>3</td>\n",
              "      <td>2016-01-08 00:00:00</td>\n",
              "      <td>Country_01</td>\n",
              "      <td>Local_04</td>\n",
              "      <td>Mining</td>\n",
              "      <td>I</td>\n",
              "      <td>I</td>\n",
              "      <td>Male</td>\n",
              "      <td>Third Party</td>\n",
              "      <td>Others</td>\n",
              "      <td>Being 9:45 am. approximately in the Nv. 1880 C...</td>\n",
              "    </tr>\n",
              "    <tr>\n",
              "      <th>4</th>\n",
              "      <td>4</td>\n",
              "      <td>2016-01-10 00:00:00</td>\n",
              "      <td>Country_01</td>\n",
              "      <td>Local_04</td>\n",
              "      <td>Mining</td>\n",
              "      <td>IV</td>\n",
              "      <td>IV</td>\n",
              "      <td>Male</td>\n",
              "      <td>Third Party</td>\n",
              "      <td>Others</td>\n",
              "      <td>Approximately at 11:45 a.m. in circumstances t...</td>\n",
              "    </tr>\n",
              "  </tbody>\n",
              "</table>\n",
              "</div>\n",
              "      <button class=\"colab-df-convert\" onclick=\"convertToInteractive('df-966aa291-d4c1-4b88-9b56-5a2d28e69e13')\"\n",
              "              title=\"Convert this dataframe to an interactive table.\"\n",
              "              style=\"display:none;\">\n",
              "        \n",
              "  <svg xmlns=\"http://www.w3.org/2000/svg\" height=\"24px\"viewBox=\"0 0 24 24\"\n",
              "       width=\"24px\">\n",
              "    <path d=\"M0 0h24v24H0V0z\" fill=\"none\"/>\n",
              "    <path d=\"M18.56 5.44l.94 2.06.94-2.06 2.06-.94-2.06-.94-.94-2.06-.94 2.06-2.06.94zm-11 1L8.5 8.5l.94-2.06 2.06-.94-2.06-.94L8.5 2.5l-.94 2.06-2.06.94zm10 10l.94 2.06.94-2.06 2.06-.94-2.06-.94-.94-2.06-.94 2.06-2.06.94z\"/><path d=\"M17.41 7.96l-1.37-1.37c-.4-.4-.92-.59-1.43-.59-.52 0-1.04.2-1.43.59L10.3 9.45l-7.72 7.72c-.78.78-.78 2.05 0 2.83L4 21.41c.39.39.9.59 1.41.59.51 0 1.02-.2 1.41-.59l7.78-7.78 2.81-2.81c.8-.78.8-2.07 0-2.86zM5.41 20L4 18.59l7.72-7.72 1.47 1.35L5.41 20z\"/>\n",
              "  </svg>\n",
              "      </button>\n",
              "      \n",
              "  <style>\n",
              "    .colab-df-container {\n",
              "      display:flex;\n",
              "      flex-wrap:wrap;\n",
              "      gap: 12px;\n",
              "    }\n",
              "\n",
              "    .colab-df-convert {\n",
              "      background-color: #E8F0FE;\n",
              "      border: none;\n",
              "      border-radius: 50%;\n",
              "      cursor: pointer;\n",
              "      display: none;\n",
              "      fill: #1967D2;\n",
              "      height: 32px;\n",
              "      padding: 0 0 0 0;\n",
              "      width: 32px;\n",
              "    }\n",
              "\n",
              "    .colab-df-convert:hover {\n",
              "      background-color: #E2EBFA;\n",
              "      box-shadow: 0px 1px 2px rgba(60, 64, 67, 0.3), 0px 1px 3px 1px rgba(60, 64, 67, 0.15);\n",
              "      fill: #174EA6;\n",
              "    }\n",
              "\n",
              "    [theme=dark] .colab-df-convert {\n",
              "      background-color: #3B4455;\n",
              "      fill: #D2E3FC;\n",
              "    }\n",
              "\n",
              "    [theme=dark] .colab-df-convert:hover {\n",
              "      background-color: #434B5C;\n",
              "      box-shadow: 0px 1px 3px 1px rgba(0, 0, 0, 0.15);\n",
              "      filter: drop-shadow(0px 1px 2px rgba(0, 0, 0, 0.3));\n",
              "      fill: #FFFFFF;\n",
              "    }\n",
              "  </style>\n",
              "\n",
              "      <script>\n",
              "        const buttonEl =\n",
              "          document.querySelector('#df-966aa291-d4c1-4b88-9b56-5a2d28e69e13 button.colab-df-convert');\n",
              "        buttonEl.style.display =\n",
              "          google.colab.kernel.accessAllowed ? 'block' : 'none';\n",
              "\n",
              "        async function convertToInteractive(key) {\n",
              "          const element = document.querySelector('#df-966aa291-d4c1-4b88-9b56-5a2d28e69e13');\n",
              "          const dataTable =\n",
              "            await google.colab.kernel.invokeFunction('convertToInteractive',\n",
              "                                                     [key], {});\n",
              "          if (!dataTable) return;\n",
              "\n",
              "          const docLinkHtml = 'Like what you see? Visit the ' +\n",
              "            '<a target=\"_blank\" href=https://colab.research.google.com/notebooks/data_table.ipynb>data table notebook</a>'\n",
              "            + ' to learn more about interactive tables.';\n",
              "          element.innerHTML = '';\n",
              "          dataTable['output_type'] = 'display_data';\n",
              "          await google.colab.output.renderOutput(dataTable, element);\n",
              "          const docLink = document.createElement('div');\n",
              "          docLink.innerHTML = docLinkHtml;\n",
              "          element.appendChild(docLink);\n",
              "        }\n",
              "      </script>\n",
              "    </div>\n",
              "  </div>\n",
              "  "
            ]
          },
          "metadata": {},
          "execution_count": 202
        }
      ]
    },
    {
      "cell_type": "markdown",
      "source": [
        "### Step 2: Data cleansing"
      ],
      "metadata": {
        "id": "SEDJ-feWsFpo"
      }
    },
    {
      "cell_type": "code",
      "source": [
        "df.drop(\"Unnamed: 0\", axis=1, inplace=True)\n",
        "df.rename(columns={'Data':'Date', 'Genre':'Gender'}, inplace=True)\n",
        "df.head()"
      ],
      "metadata": {
        "id": "VHY7t0YFIo8_",
        "colab": {
          "base_uri": "https://localhost:8080/",
          "height": 354
        },
        "outputId": "93655bed-9f1c-44fe-e46a-37f1e8cf5559"
      },
      "execution_count": 203,
      "outputs": [
        {
          "output_type": "execute_result",
          "data": {
            "text/plain": [
              "                  Date   Countries     Local Industry Sector Accident Level  \\\n",
              "0  2016-01-01 00:00:00  Country_01  Local_01          Mining              I   \n",
              "1  2016-01-02 00:00:00  Country_02  Local_02          Mining              I   \n",
              "2  2016-01-06 00:00:00  Country_01  Local_03          Mining              I   \n",
              "3  2016-01-08 00:00:00  Country_01  Local_04          Mining              I   \n",
              "4  2016-01-10 00:00:00  Country_01  Local_04          Mining             IV   \n",
              "\n",
              "  Potential Accident Level Gender Employee or Third Party  \\\n",
              "0                       IV   Male             Third Party   \n",
              "1                       IV   Male                Employee   \n",
              "2                      III   Male    Third Party (Remote)   \n",
              "3                        I   Male             Third Party   \n",
              "4                       IV   Male             Third Party   \n",
              "\n",
              "         Critical Risk                                        Description  \n",
              "0              Pressed  While removing the drill rod of the Jumbo 08 f...  \n",
              "1  Pressurized Systems  During the activation of a sodium sulphide pum...  \n",
              "2         Manual Tools  In the sub-station MILPO located at level +170...  \n",
              "3               Others  Being 9:45 am. approximately in the Nv. 1880 C...  \n",
              "4               Others  Approximately at 11:45 a.m. in circumstances t...  "
            ],
            "text/html": [
              "\n",
              "  <div id=\"df-65bbb6f7-0d54-4daa-8a15-b6729cd8a560\">\n",
              "    <div class=\"colab-df-container\">\n",
              "      <div>\n",
              "<style scoped>\n",
              "    .dataframe tbody tr th:only-of-type {\n",
              "        vertical-align: middle;\n",
              "    }\n",
              "\n",
              "    .dataframe tbody tr th {\n",
              "        vertical-align: top;\n",
              "    }\n",
              "\n",
              "    .dataframe thead th {\n",
              "        text-align: right;\n",
              "    }\n",
              "</style>\n",
              "<table border=\"1\" class=\"dataframe\">\n",
              "  <thead>\n",
              "    <tr style=\"text-align: right;\">\n",
              "      <th></th>\n",
              "      <th>Date</th>\n",
              "      <th>Countries</th>\n",
              "      <th>Local</th>\n",
              "      <th>Industry Sector</th>\n",
              "      <th>Accident Level</th>\n",
              "      <th>Potential Accident Level</th>\n",
              "      <th>Gender</th>\n",
              "      <th>Employee or Third Party</th>\n",
              "      <th>Critical Risk</th>\n",
              "      <th>Description</th>\n",
              "    </tr>\n",
              "  </thead>\n",
              "  <tbody>\n",
              "    <tr>\n",
              "      <th>0</th>\n",
              "      <td>2016-01-01 00:00:00</td>\n",
              "      <td>Country_01</td>\n",
              "      <td>Local_01</td>\n",
              "      <td>Mining</td>\n",
              "      <td>I</td>\n",
              "      <td>IV</td>\n",
              "      <td>Male</td>\n",
              "      <td>Third Party</td>\n",
              "      <td>Pressed</td>\n",
              "      <td>While removing the drill rod of the Jumbo 08 f...</td>\n",
              "    </tr>\n",
              "    <tr>\n",
              "      <th>1</th>\n",
              "      <td>2016-01-02 00:00:00</td>\n",
              "      <td>Country_02</td>\n",
              "      <td>Local_02</td>\n",
              "      <td>Mining</td>\n",
              "      <td>I</td>\n",
              "      <td>IV</td>\n",
              "      <td>Male</td>\n",
              "      <td>Employee</td>\n",
              "      <td>Pressurized Systems</td>\n",
              "      <td>During the activation of a sodium sulphide pum...</td>\n",
              "    </tr>\n",
              "    <tr>\n",
              "      <th>2</th>\n",
              "      <td>2016-01-06 00:00:00</td>\n",
              "      <td>Country_01</td>\n",
              "      <td>Local_03</td>\n",
              "      <td>Mining</td>\n",
              "      <td>I</td>\n",
              "      <td>III</td>\n",
              "      <td>Male</td>\n",
              "      <td>Third Party (Remote)</td>\n",
              "      <td>Manual Tools</td>\n",
              "      <td>In the sub-station MILPO located at level +170...</td>\n",
              "    </tr>\n",
              "    <tr>\n",
              "      <th>3</th>\n",
              "      <td>2016-01-08 00:00:00</td>\n",
              "      <td>Country_01</td>\n",
              "      <td>Local_04</td>\n",
              "      <td>Mining</td>\n",
              "      <td>I</td>\n",
              "      <td>I</td>\n",
              "      <td>Male</td>\n",
              "      <td>Third Party</td>\n",
              "      <td>Others</td>\n",
              "      <td>Being 9:45 am. approximately in the Nv. 1880 C...</td>\n",
              "    </tr>\n",
              "    <tr>\n",
              "      <th>4</th>\n",
              "      <td>2016-01-10 00:00:00</td>\n",
              "      <td>Country_01</td>\n",
              "      <td>Local_04</td>\n",
              "      <td>Mining</td>\n",
              "      <td>IV</td>\n",
              "      <td>IV</td>\n",
              "      <td>Male</td>\n",
              "      <td>Third Party</td>\n",
              "      <td>Others</td>\n",
              "      <td>Approximately at 11:45 a.m. in circumstances t...</td>\n",
              "    </tr>\n",
              "  </tbody>\n",
              "</table>\n",
              "</div>\n",
              "      <button class=\"colab-df-convert\" onclick=\"convertToInteractive('df-65bbb6f7-0d54-4daa-8a15-b6729cd8a560')\"\n",
              "              title=\"Convert this dataframe to an interactive table.\"\n",
              "              style=\"display:none;\">\n",
              "        \n",
              "  <svg xmlns=\"http://www.w3.org/2000/svg\" height=\"24px\"viewBox=\"0 0 24 24\"\n",
              "       width=\"24px\">\n",
              "    <path d=\"M0 0h24v24H0V0z\" fill=\"none\"/>\n",
              "    <path d=\"M18.56 5.44l.94 2.06.94-2.06 2.06-.94-2.06-.94-.94-2.06-.94 2.06-2.06.94zm-11 1L8.5 8.5l.94-2.06 2.06-.94-2.06-.94L8.5 2.5l-.94 2.06-2.06.94zm10 10l.94 2.06.94-2.06 2.06-.94-2.06-.94-.94-2.06-.94 2.06-2.06.94z\"/><path d=\"M17.41 7.96l-1.37-1.37c-.4-.4-.92-.59-1.43-.59-.52 0-1.04.2-1.43.59L10.3 9.45l-7.72 7.72c-.78.78-.78 2.05 0 2.83L4 21.41c.39.39.9.59 1.41.59.51 0 1.02-.2 1.41-.59l7.78-7.78 2.81-2.81c.8-.78.8-2.07 0-2.86zM5.41 20L4 18.59l7.72-7.72 1.47 1.35L5.41 20z\"/>\n",
              "  </svg>\n",
              "      </button>\n",
              "      \n",
              "  <style>\n",
              "    .colab-df-container {\n",
              "      display:flex;\n",
              "      flex-wrap:wrap;\n",
              "      gap: 12px;\n",
              "    }\n",
              "\n",
              "    .colab-df-convert {\n",
              "      background-color: #E8F0FE;\n",
              "      border: none;\n",
              "      border-radius: 50%;\n",
              "      cursor: pointer;\n",
              "      display: none;\n",
              "      fill: #1967D2;\n",
              "      height: 32px;\n",
              "      padding: 0 0 0 0;\n",
              "      width: 32px;\n",
              "    }\n",
              "\n",
              "    .colab-df-convert:hover {\n",
              "      background-color: #E2EBFA;\n",
              "      box-shadow: 0px 1px 2px rgba(60, 64, 67, 0.3), 0px 1px 3px 1px rgba(60, 64, 67, 0.15);\n",
              "      fill: #174EA6;\n",
              "    }\n",
              "\n",
              "    [theme=dark] .colab-df-convert {\n",
              "      background-color: #3B4455;\n",
              "      fill: #D2E3FC;\n",
              "    }\n",
              "\n",
              "    [theme=dark] .colab-df-convert:hover {\n",
              "      background-color: #434B5C;\n",
              "      box-shadow: 0px 1px 3px 1px rgba(0, 0, 0, 0.15);\n",
              "      filter: drop-shadow(0px 1px 2px rgba(0, 0, 0, 0.3));\n",
              "      fill: #FFFFFF;\n",
              "    }\n",
              "  </style>\n",
              "\n",
              "      <script>\n",
              "        const buttonEl =\n",
              "          document.querySelector('#df-65bbb6f7-0d54-4daa-8a15-b6729cd8a560 button.colab-df-convert');\n",
              "        buttonEl.style.display =\n",
              "          google.colab.kernel.accessAllowed ? 'block' : 'none';\n",
              "\n",
              "        async function convertToInteractive(key) {\n",
              "          const element = document.querySelector('#df-65bbb6f7-0d54-4daa-8a15-b6729cd8a560');\n",
              "          const dataTable =\n",
              "            await google.colab.kernel.invokeFunction('convertToInteractive',\n",
              "                                                     [key], {});\n",
              "          if (!dataTable) return;\n",
              "\n",
              "          const docLinkHtml = 'Like what you see? Visit the ' +\n",
              "            '<a target=\"_blank\" href=https://colab.research.google.com/notebooks/data_table.ipynb>data table notebook</a>'\n",
              "            + ' to learn more about interactive tables.';\n",
              "          element.innerHTML = '';\n",
              "          dataTable['output_type'] = 'display_data';\n",
              "          await google.colab.output.renderOutput(dataTable, element);\n",
              "          const docLink = document.createElement('div');\n",
              "          docLink.innerHTML = docLinkHtml;\n",
              "          element.appendChild(docLink);\n",
              "        }\n",
              "      </script>\n",
              "    </div>\n",
              "  </div>\n",
              "  "
            ]
          },
          "metadata": {},
          "execution_count": 203
        }
      ]
    },
    {
      "cell_type": "code",
      "source": [
        "df.shape"
      ],
      "metadata": {
        "colab": {
          "base_uri": "https://localhost:8080/"
        },
        "id": "zxIHFV49m3za",
        "outputId": "9967336d-428c-424b-85e1-e17d4e11f097"
      },
      "execution_count": 204,
      "outputs": [
        {
          "output_type": "execute_result",
          "data": {
            "text/plain": [
              "(425, 10)"
            ]
          },
          "metadata": {},
          "execution_count": 204
        }
      ]
    },
    {
      "cell_type": "code",
      "source": [
        "df.info()"
      ],
      "metadata": {
        "colab": {
          "base_uri": "https://localhost:8080/"
        },
        "id": "3ePp74odm7dJ",
        "outputId": "de44ead4-ba0b-4ac1-84d9-d73f8f49486c"
      },
      "execution_count": 205,
      "outputs": [
        {
          "output_type": "stream",
          "name": "stdout",
          "text": [
            "<class 'pandas.core.frame.DataFrame'>\n",
            "RangeIndex: 425 entries, 0 to 424\n",
            "Data columns (total 10 columns):\n",
            " #   Column                    Non-Null Count  Dtype \n",
            "---  ------                    --------------  ----- \n",
            " 0   Date                      425 non-null    object\n",
            " 1   Countries                 425 non-null    object\n",
            " 2   Local                     425 non-null    object\n",
            " 3   Industry Sector           425 non-null    object\n",
            " 4   Accident Level            425 non-null    object\n",
            " 5   Potential Accident Level  425 non-null    object\n",
            " 6   Gender                    425 non-null    object\n",
            " 7   Employee or Third Party   425 non-null    object\n",
            " 8   Critical Risk             425 non-null    object\n",
            " 9   Description               425 non-null    object\n",
            "dtypes: object(10)\n",
            "memory usage: 33.3+ KB\n"
          ]
        }
      ]
    },
    {
      "cell_type": "code",
      "source": [
        "df['Date'].value_counts()"
      ],
      "metadata": {
        "colab": {
          "base_uri": "https://localhost:8080/"
        },
        "outputId": "7fa2334b-bc66-466b-9305-b21bf5d9bc22",
        "id": "pS7mF_AnJpl-"
      },
      "execution_count": 206,
      "outputs": [
        {
          "output_type": "execute_result",
          "data": {
            "text/plain": [
              "2017-02-08 00:00:00    6\n",
              "2016-06-16 00:00:00    5\n",
              "2016-10-03 00:00:00    4\n",
              "2017-06-11 00:00:00    4\n",
              "2016-06-08 00:00:00    4\n",
              "                      ..\n",
              "2016-07-18 00:00:00    1\n",
              "2016-07-20 00:00:00    1\n",
              "2016-07-21 00:00:00    1\n",
              "2016-07-23 00:00:00    1\n",
              "2017-07-09 00:00:00    1\n",
              "Name: Date, Length: 287, dtype: int64"
            ]
          },
          "metadata": {},
          "execution_count": 206
        }
      ]
    },
    {
      "cell_type": "code",
      "source": [
        "df['Countries'].value_counts()"
      ],
      "metadata": {
        "colab": {
          "base_uri": "https://localhost:8080/"
        },
        "outputId": "a4542354-ed51-4905-8b09-58703d4efd33",
        "id": "Adunp3_kJpl_"
      },
      "execution_count": 207,
      "outputs": [
        {
          "output_type": "execute_result",
          "data": {
            "text/plain": [
              "Country_01    251\n",
              "Country_02    130\n",
              "Country_03     44\n",
              "Name: Countries, dtype: int64"
            ]
          },
          "metadata": {},
          "execution_count": 207
        }
      ]
    },
    {
      "cell_type": "code",
      "source": [
        "df['Local'].value_counts()"
      ],
      "metadata": {
        "colab": {
          "base_uri": "https://localhost:8080/"
        },
        "outputId": "57e3c1cc-7734-4e57-de5d-35d026aa1b8b",
        "id": "W-LCfhsyJpmA"
      },
      "execution_count": 208,
      "outputs": [
        {
          "output_type": "execute_result",
          "data": {
            "text/plain": [
              "Local_03    90\n",
              "Local_05    59\n",
              "Local_01    57\n",
              "Local_04    56\n",
              "Local_06    46\n",
              "Local_10    44\n",
              "Local_08    27\n",
              "Local_02    24\n",
              "Local_07    14\n",
              "Local_12     4\n",
              "Local_09     2\n",
              "Local_11     2\n",
              "Name: Local, dtype: int64"
            ]
          },
          "metadata": {},
          "execution_count": 208
        }
      ]
    },
    {
      "cell_type": "code",
      "source": [
        "df['Industry Sector'].value_counts()"
      ],
      "metadata": {
        "colab": {
          "base_uri": "https://localhost:8080/"
        },
        "outputId": "9971d232-fe88-4039-8f9b-6225dcfd5016",
        "id": "GdTKzHp_JpmA"
      },
      "execution_count": 209,
      "outputs": [
        {
          "output_type": "execute_result",
          "data": {
            "text/plain": [
              "Mining    241\n",
              "Metals    134\n",
              "Others     50\n",
              "Name: Industry Sector, dtype: int64"
            ]
          },
          "metadata": {},
          "execution_count": 209
        }
      ]
    },
    {
      "cell_type": "code",
      "source": [
        "df['Accident Level'].value_counts()"
      ],
      "metadata": {
        "colab": {
          "base_uri": "https://localhost:8080/"
        },
        "outputId": "3a9a4018-0df5-4e13-d0e6-28948e87dbc3",
        "id": "3vNYFXt5JpmA"
      },
      "execution_count": 210,
      "outputs": [
        {
          "output_type": "execute_result",
          "data": {
            "text/plain": [
              "I      316\n",
              "II      40\n",
              "III     31\n",
              "IV      30\n",
              "V        8\n",
              "Name: Accident Level, dtype: int64"
            ]
          },
          "metadata": {},
          "execution_count": 210
        }
      ]
    },
    {
      "cell_type": "code",
      "source": [
        "df['Potential Accident Level'].value_counts()"
      ],
      "metadata": {
        "colab": {
          "base_uri": "https://localhost:8080/"
        },
        "outputId": "78061a0e-9554-48ea-9990-ad7d1be84ed1",
        "id": "1Fd-tcUAJpmA"
      },
      "execution_count": 211,
      "outputs": [
        {
          "output_type": "execute_result",
          "data": {
            "text/plain": [
              "IV     143\n",
              "III    106\n",
              "II      95\n",
              "I       49\n",
              "V       31\n",
              "VI       1\n",
              "Name: Potential Accident Level, dtype: int64"
            ]
          },
          "metadata": {},
          "execution_count": 211
        }
      ]
    },
    {
      "cell_type": "code",
      "source": [
        "df['Gender'].value_counts()"
      ],
      "metadata": {
        "colab": {
          "base_uri": "https://localhost:8080/"
        },
        "outputId": "387cd32a-a5e5-48be-db01-a3d8a02a1ee9",
        "id": "imUsSr9RJpmB"
      },
      "execution_count": 212,
      "outputs": [
        {
          "output_type": "execute_result",
          "data": {
            "text/plain": [
              "Male      403\n",
              "Female     22\n",
              "Name: Gender, dtype: int64"
            ]
          },
          "metadata": {},
          "execution_count": 212
        }
      ]
    },
    {
      "cell_type": "code",
      "source": [
        "df['Employee or Third Party'].value_counts()"
      ],
      "metadata": {
        "colab": {
          "base_uri": "https://localhost:8080/"
        },
        "outputId": "6681bf0a-e98a-4889-fd5a-54dd22d76ccb",
        "id": "rs6bUZ8WJpmB"
      },
      "execution_count": 213,
      "outputs": [
        {
          "output_type": "execute_result",
          "data": {
            "text/plain": [
              "Third Party             189\n",
              "Employee                179\n",
              "Third Party (Remote)     57\n",
              "Name: Employee or Third Party, dtype: int64"
            ]
          },
          "metadata": {},
          "execution_count": 213
        }
      ]
    },
    {
      "cell_type": "code",
      "source": [
        "df['Critical Risk'].value_counts()"
      ],
      "metadata": {
        "colab": {
          "base_uri": "https://localhost:8080/"
        },
        "outputId": "2fc79f26-1433-4ea7-fc9a-9b5da6602511",
        "id": "MDl0swKOJpmB"
      },
      "execution_count": 214,
      "outputs": [
        {
          "output_type": "execute_result",
          "data": {
            "text/plain": [
              "Others                                       232\n",
              "Pressed                                       24\n",
              "Manual Tools                                  20\n",
              "Chemical substances                           17\n",
              "Venomous Animals                              16\n",
              "Cut                                           14\n",
              "Projection                                    13\n",
              "Bees                                          10\n",
              "Fall                                           9\n",
              "Vehicles and Mobile Equipment                  8\n",
              "Fall prevention (same level)                   7\n",
              "remains of choco                               7\n",
              "Pressurized Systems                            7\n",
              "Fall prevention                                6\n",
              "Suspended Loads                                6\n",
              "Blocking and isolation of energies             3\n",
              "Pressurized Systems / Chemical Substances      3\n",
              "Power lock                                     3\n",
              "Liquid Metal                                   3\n",
              "Projection of fragments                        2\n",
              "Machine Protection                             2\n",
              "Electrical Shock                               2\n",
              "Individual protection equipment                1\n",
              "Projection/Manual Tools                        1\n",
              "Burn                                           1\n",
              "Poll                                           1\n",
              "Projection/Choco                               1\n",
              "Projection/Burning                             1\n",
              "Plates                                         1\n",
              "Confined space                                 1\n",
              "Traffic                                        1\n",
              "\\nNot applicable                               1\n",
              "Electrical installation                        1\n",
              "Name: Critical Risk, dtype: int64"
            ]
          },
          "metadata": {},
          "execution_count": 214
        }
      ]
    },
    {
      "cell_type": "code",
      "source": [
        "from sklearn.preprocessing import LabelEncoder\n",
        "local_replace = {'Local_01': 1, 'Local_02': 2, 'Local_03': 3, 'Local_04': 4, 'Local_05': 5, 'Local_06': 6, 'Local_07': 7, 'Local_08': 8, 'Local_09': 9, 'Local_10': 10, 'Local_11': 11, 'Local_12': 12}\n",
        "df['Local'] = df['Local'].map(local_replace)\n",
        "le = LabelEncoder()\n",
        "df['Accident Level'] = le.fit_transform(df['Accident Level'])\n",
        "df['Potential Accident Level'] = le.fit_transform(df['Potential Accident Level'])\n",
        "del local_replace"
      ],
      "metadata": {
        "id": "_VDAP0ffHLBi"
      },
      "execution_count": 215,
      "outputs": []
    },
    {
      "cell_type": "code",
      "source": [
        "df.head()"
      ],
      "metadata": {
        "colab": {
          "base_uri": "https://localhost:8080/",
          "height": 354
        },
        "id": "Micq8t1bHbBi",
        "outputId": "462af31c-4fcb-4248-b09c-e948b6b8ace1"
      },
      "execution_count": 216,
      "outputs": [
        {
          "output_type": "execute_result",
          "data": {
            "text/plain": [
              "                  Date   Countries  Local Industry Sector  Accident Level  \\\n",
              "0  2016-01-01 00:00:00  Country_01      1          Mining               0   \n",
              "1  2016-01-02 00:00:00  Country_02      2          Mining               0   \n",
              "2  2016-01-06 00:00:00  Country_01      3          Mining               0   \n",
              "3  2016-01-08 00:00:00  Country_01      4          Mining               0   \n",
              "4  2016-01-10 00:00:00  Country_01      4          Mining               3   \n",
              "\n",
              "   Potential Accident Level Gender Employee or Third Party  \\\n",
              "0                         3   Male             Third Party   \n",
              "1                         3   Male                Employee   \n",
              "2                         2   Male    Third Party (Remote)   \n",
              "3                         0   Male             Third Party   \n",
              "4                         3   Male             Third Party   \n",
              "\n",
              "         Critical Risk                                        Description  \n",
              "0              Pressed  While removing the drill rod of the Jumbo 08 f...  \n",
              "1  Pressurized Systems  During the activation of a sodium sulphide pum...  \n",
              "2         Manual Tools  In the sub-station MILPO located at level +170...  \n",
              "3               Others  Being 9:45 am. approximately in the Nv. 1880 C...  \n",
              "4               Others  Approximately at 11:45 a.m. in circumstances t...  "
            ],
            "text/html": [
              "\n",
              "  <div id=\"df-e5c32712-27b1-4088-8e50-8c6cf9e2b26d\">\n",
              "    <div class=\"colab-df-container\">\n",
              "      <div>\n",
              "<style scoped>\n",
              "    .dataframe tbody tr th:only-of-type {\n",
              "        vertical-align: middle;\n",
              "    }\n",
              "\n",
              "    .dataframe tbody tr th {\n",
              "        vertical-align: top;\n",
              "    }\n",
              "\n",
              "    .dataframe thead th {\n",
              "        text-align: right;\n",
              "    }\n",
              "</style>\n",
              "<table border=\"1\" class=\"dataframe\">\n",
              "  <thead>\n",
              "    <tr style=\"text-align: right;\">\n",
              "      <th></th>\n",
              "      <th>Date</th>\n",
              "      <th>Countries</th>\n",
              "      <th>Local</th>\n",
              "      <th>Industry Sector</th>\n",
              "      <th>Accident Level</th>\n",
              "      <th>Potential Accident Level</th>\n",
              "      <th>Gender</th>\n",
              "      <th>Employee or Third Party</th>\n",
              "      <th>Critical Risk</th>\n",
              "      <th>Description</th>\n",
              "    </tr>\n",
              "  </thead>\n",
              "  <tbody>\n",
              "    <tr>\n",
              "      <th>0</th>\n",
              "      <td>2016-01-01 00:00:00</td>\n",
              "      <td>Country_01</td>\n",
              "      <td>1</td>\n",
              "      <td>Mining</td>\n",
              "      <td>0</td>\n",
              "      <td>3</td>\n",
              "      <td>Male</td>\n",
              "      <td>Third Party</td>\n",
              "      <td>Pressed</td>\n",
              "      <td>While removing the drill rod of the Jumbo 08 f...</td>\n",
              "    </tr>\n",
              "    <tr>\n",
              "      <th>1</th>\n",
              "      <td>2016-01-02 00:00:00</td>\n",
              "      <td>Country_02</td>\n",
              "      <td>2</td>\n",
              "      <td>Mining</td>\n",
              "      <td>0</td>\n",
              "      <td>3</td>\n",
              "      <td>Male</td>\n",
              "      <td>Employee</td>\n",
              "      <td>Pressurized Systems</td>\n",
              "      <td>During the activation of a sodium sulphide pum...</td>\n",
              "    </tr>\n",
              "    <tr>\n",
              "      <th>2</th>\n",
              "      <td>2016-01-06 00:00:00</td>\n",
              "      <td>Country_01</td>\n",
              "      <td>3</td>\n",
              "      <td>Mining</td>\n",
              "      <td>0</td>\n",
              "      <td>2</td>\n",
              "      <td>Male</td>\n",
              "      <td>Third Party (Remote)</td>\n",
              "      <td>Manual Tools</td>\n",
              "      <td>In the sub-station MILPO located at level +170...</td>\n",
              "    </tr>\n",
              "    <tr>\n",
              "      <th>3</th>\n",
              "      <td>2016-01-08 00:00:00</td>\n",
              "      <td>Country_01</td>\n",
              "      <td>4</td>\n",
              "      <td>Mining</td>\n",
              "      <td>0</td>\n",
              "      <td>0</td>\n",
              "      <td>Male</td>\n",
              "      <td>Third Party</td>\n",
              "      <td>Others</td>\n",
              "      <td>Being 9:45 am. approximately in the Nv. 1880 C...</td>\n",
              "    </tr>\n",
              "    <tr>\n",
              "      <th>4</th>\n",
              "      <td>2016-01-10 00:00:00</td>\n",
              "      <td>Country_01</td>\n",
              "      <td>4</td>\n",
              "      <td>Mining</td>\n",
              "      <td>3</td>\n",
              "      <td>3</td>\n",
              "      <td>Male</td>\n",
              "      <td>Third Party</td>\n",
              "      <td>Others</td>\n",
              "      <td>Approximately at 11:45 a.m. in circumstances t...</td>\n",
              "    </tr>\n",
              "  </tbody>\n",
              "</table>\n",
              "</div>\n",
              "      <button class=\"colab-df-convert\" onclick=\"convertToInteractive('df-e5c32712-27b1-4088-8e50-8c6cf9e2b26d')\"\n",
              "              title=\"Convert this dataframe to an interactive table.\"\n",
              "              style=\"display:none;\">\n",
              "        \n",
              "  <svg xmlns=\"http://www.w3.org/2000/svg\" height=\"24px\"viewBox=\"0 0 24 24\"\n",
              "       width=\"24px\">\n",
              "    <path d=\"M0 0h24v24H0V0z\" fill=\"none\"/>\n",
              "    <path d=\"M18.56 5.44l.94 2.06.94-2.06 2.06-.94-2.06-.94-.94-2.06-.94 2.06-2.06.94zm-11 1L8.5 8.5l.94-2.06 2.06-.94-2.06-.94L8.5 2.5l-.94 2.06-2.06.94zm10 10l.94 2.06.94-2.06 2.06-.94-2.06-.94-.94-2.06-.94 2.06-2.06.94z\"/><path d=\"M17.41 7.96l-1.37-1.37c-.4-.4-.92-.59-1.43-.59-.52 0-1.04.2-1.43.59L10.3 9.45l-7.72 7.72c-.78.78-.78 2.05 0 2.83L4 21.41c.39.39.9.59 1.41.59.51 0 1.02-.2 1.41-.59l7.78-7.78 2.81-2.81c.8-.78.8-2.07 0-2.86zM5.41 20L4 18.59l7.72-7.72 1.47 1.35L5.41 20z\"/>\n",
              "  </svg>\n",
              "      </button>\n",
              "      \n",
              "  <style>\n",
              "    .colab-df-container {\n",
              "      display:flex;\n",
              "      flex-wrap:wrap;\n",
              "      gap: 12px;\n",
              "    }\n",
              "\n",
              "    .colab-df-convert {\n",
              "      background-color: #E8F0FE;\n",
              "      border: none;\n",
              "      border-radius: 50%;\n",
              "      cursor: pointer;\n",
              "      display: none;\n",
              "      fill: #1967D2;\n",
              "      height: 32px;\n",
              "      padding: 0 0 0 0;\n",
              "      width: 32px;\n",
              "    }\n",
              "\n",
              "    .colab-df-convert:hover {\n",
              "      background-color: #E2EBFA;\n",
              "      box-shadow: 0px 1px 2px rgba(60, 64, 67, 0.3), 0px 1px 3px 1px rgba(60, 64, 67, 0.15);\n",
              "      fill: #174EA6;\n",
              "    }\n",
              "\n",
              "    [theme=dark] .colab-df-convert {\n",
              "      background-color: #3B4455;\n",
              "      fill: #D2E3FC;\n",
              "    }\n",
              "\n",
              "    [theme=dark] .colab-df-convert:hover {\n",
              "      background-color: #434B5C;\n",
              "      box-shadow: 0px 1px 3px 1px rgba(0, 0, 0, 0.15);\n",
              "      filter: drop-shadow(0px 1px 2px rgba(0, 0, 0, 0.3));\n",
              "      fill: #FFFFFF;\n",
              "    }\n",
              "  </style>\n",
              "\n",
              "      <script>\n",
              "        const buttonEl =\n",
              "          document.querySelector('#df-e5c32712-27b1-4088-8e50-8c6cf9e2b26d button.colab-df-convert');\n",
              "        buttonEl.style.display =\n",
              "          google.colab.kernel.accessAllowed ? 'block' : 'none';\n",
              "\n",
              "        async function convertToInteractive(key) {\n",
              "          const element = document.querySelector('#df-e5c32712-27b1-4088-8e50-8c6cf9e2b26d');\n",
              "          const dataTable =\n",
              "            await google.colab.kernel.invokeFunction('convertToInteractive',\n",
              "                                                     [key], {});\n",
              "          if (!dataTable) return;\n",
              "\n",
              "          const docLinkHtml = 'Like what you see? Visit the ' +\n",
              "            '<a target=\"_blank\" href=https://colab.research.google.com/notebooks/data_table.ipynb>data table notebook</a>'\n",
              "            + ' to learn more about interactive tables.';\n",
              "          element.innerHTML = '';\n",
              "          dataTable['output_type'] = 'display_data';\n",
              "          await google.colab.output.renderOutput(dataTable, element);\n",
              "          const docLink = document.createElement('div');\n",
              "          docLink.innerHTML = docLinkHtml;\n",
              "          element.appendChild(docLink);\n",
              "        }\n",
              "      </script>\n",
              "    </div>\n",
              "  </div>\n",
              "  "
            ]
          },
          "metadata": {},
          "execution_count": 216
        }
      ]
    },
    {
      "cell_type": "code",
      "source": [
        "df.isnull().sum()"
      ],
      "metadata": {
        "colab": {
          "base_uri": "https://localhost:8080/"
        },
        "id": "LFU9xJcJHvtV",
        "outputId": "bc27f2b0-7641-42ce-c000-6a5c124e9ff8"
      },
      "execution_count": 217,
      "outputs": [
        {
          "output_type": "execute_result",
          "data": {
            "text/plain": [
              "Date                        0\n",
              "Countries                   0\n",
              "Local                       0\n",
              "Industry Sector             0\n",
              "Accident Level              0\n",
              "Potential Accident Level    0\n",
              "Gender                      0\n",
              "Employee or Third Party     0\n",
              "Critical Risk               0\n",
              "Description                 0\n",
              "dtype: int64"
            ]
          },
          "metadata": {},
          "execution_count": 217
        }
      ]
    },
    {
      "cell_type": "code",
      "source": [
        "df['Date'] = pd.to_datetime(df['Date'])\n",
        "df['Year'] = df['Date'].apply(lambda x : x.year)\n",
        "df['Month'] = df['Date'].apply(lambda x : x.month)\n",
        "\n",
        "df['Weekday'] = df['Date'].apply(lambda x : x.day_name())\n",
        "df.head()"
      ],
      "metadata": {
        "colab": {
          "base_uri": "https://localhost:8080/",
          "height": 354
        },
        "id": "MNwzXyfGH0OV",
        "outputId": "cf2b7000-f3b2-424b-edcf-b8c300f653d6"
      },
      "execution_count": 218,
      "outputs": [
        {
          "output_type": "execute_result",
          "data": {
            "text/plain": [
              "        Date   Countries  Local Industry Sector  Accident Level  \\\n",
              "0 2016-01-01  Country_01      1          Mining               0   \n",
              "1 2016-01-02  Country_02      2          Mining               0   \n",
              "2 2016-01-06  Country_01      3          Mining               0   \n",
              "3 2016-01-08  Country_01      4          Mining               0   \n",
              "4 2016-01-10  Country_01      4          Mining               3   \n",
              "\n",
              "   Potential Accident Level Gender Employee or Third Party  \\\n",
              "0                         3   Male             Third Party   \n",
              "1                         3   Male                Employee   \n",
              "2                         2   Male    Third Party (Remote)   \n",
              "3                         0   Male             Third Party   \n",
              "4                         3   Male             Third Party   \n",
              "\n",
              "         Critical Risk                                        Description  \\\n",
              "0              Pressed  While removing the drill rod of the Jumbo 08 f...   \n",
              "1  Pressurized Systems  During the activation of a sodium sulphide pum...   \n",
              "2         Manual Tools  In the sub-station MILPO located at level +170...   \n",
              "3               Others  Being 9:45 am. approximately in the Nv. 1880 C...   \n",
              "4               Others  Approximately at 11:45 a.m. in circumstances t...   \n",
              "\n",
              "   Year  Month    Weekday  \n",
              "0  2016      1     Friday  \n",
              "1  2016      1   Saturday  \n",
              "2  2016      1  Wednesday  \n",
              "3  2016      1     Friday  \n",
              "4  2016      1     Sunday  "
            ],
            "text/html": [
              "\n",
              "  <div id=\"df-10464239-e2df-4c5e-8484-cb114c674658\">\n",
              "    <div class=\"colab-df-container\">\n",
              "      <div>\n",
              "<style scoped>\n",
              "    .dataframe tbody tr th:only-of-type {\n",
              "        vertical-align: middle;\n",
              "    }\n",
              "\n",
              "    .dataframe tbody tr th {\n",
              "        vertical-align: top;\n",
              "    }\n",
              "\n",
              "    .dataframe thead th {\n",
              "        text-align: right;\n",
              "    }\n",
              "</style>\n",
              "<table border=\"1\" class=\"dataframe\">\n",
              "  <thead>\n",
              "    <tr style=\"text-align: right;\">\n",
              "      <th></th>\n",
              "      <th>Date</th>\n",
              "      <th>Countries</th>\n",
              "      <th>Local</th>\n",
              "      <th>Industry Sector</th>\n",
              "      <th>Accident Level</th>\n",
              "      <th>Potential Accident Level</th>\n",
              "      <th>Gender</th>\n",
              "      <th>Employee or Third Party</th>\n",
              "      <th>Critical Risk</th>\n",
              "      <th>Description</th>\n",
              "      <th>Year</th>\n",
              "      <th>Month</th>\n",
              "      <th>Weekday</th>\n",
              "    </tr>\n",
              "  </thead>\n",
              "  <tbody>\n",
              "    <tr>\n",
              "      <th>0</th>\n",
              "      <td>2016-01-01</td>\n",
              "      <td>Country_01</td>\n",
              "      <td>1</td>\n",
              "      <td>Mining</td>\n",
              "      <td>0</td>\n",
              "      <td>3</td>\n",
              "      <td>Male</td>\n",
              "      <td>Third Party</td>\n",
              "      <td>Pressed</td>\n",
              "      <td>While removing the drill rod of the Jumbo 08 f...</td>\n",
              "      <td>2016</td>\n",
              "      <td>1</td>\n",
              "      <td>Friday</td>\n",
              "    </tr>\n",
              "    <tr>\n",
              "      <th>1</th>\n",
              "      <td>2016-01-02</td>\n",
              "      <td>Country_02</td>\n",
              "      <td>2</td>\n",
              "      <td>Mining</td>\n",
              "      <td>0</td>\n",
              "      <td>3</td>\n",
              "      <td>Male</td>\n",
              "      <td>Employee</td>\n",
              "      <td>Pressurized Systems</td>\n",
              "      <td>During the activation of a sodium sulphide pum...</td>\n",
              "      <td>2016</td>\n",
              "      <td>1</td>\n",
              "      <td>Saturday</td>\n",
              "    </tr>\n",
              "    <tr>\n",
              "      <th>2</th>\n",
              "      <td>2016-01-06</td>\n",
              "      <td>Country_01</td>\n",
              "      <td>3</td>\n",
              "      <td>Mining</td>\n",
              "      <td>0</td>\n",
              "      <td>2</td>\n",
              "      <td>Male</td>\n",
              "      <td>Third Party (Remote)</td>\n",
              "      <td>Manual Tools</td>\n",
              "      <td>In the sub-station MILPO located at level +170...</td>\n",
              "      <td>2016</td>\n",
              "      <td>1</td>\n",
              "      <td>Wednesday</td>\n",
              "    </tr>\n",
              "    <tr>\n",
              "      <th>3</th>\n",
              "      <td>2016-01-08</td>\n",
              "      <td>Country_01</td>\n",
              "      <td>4</td>\n",
              "      <td>Mining</td>\n",
              "      <td>0</td>\n",
              "      <td>0</td>\n",
              "      <td>Male</td>\n",
              "      <td>Third Party</td>\n",
              "      <td>Others</td>\n",
              "      <td>Being 9:45 am. approximately in the Nv. 1880 C...</td>\n",
              "      <td>2016</td>\n",
              "      <td>1</td>\n",
              "      <td>Friday</td>\n",
              "    </tr>\n",
              "    <tr>\n",
              "      <th>4</th>\n",
              "      <td>2016-01-10</td>\n",
              "      <td>Country_01</td>\n",
              "      <td>4</td>\n",
              "      <td>Mining</td>\n",
              "      <td>3</td>\n",
              "      <td>3</td>\n",
              "      <td>Male</td>\n",
              "      <td>Third Party</td>\n",
              "      <td>Others</td>\n",
              "      <td>Approximately at 11:45 a.m. in circumstances t...</td>\n",
              "      <td>2016</td>\n",
              "      <td>1</td>\n",
              "      <td>Sunday</td>\n",
              "    </tr>\n",
              "  </tbody>\n",
              "</table>\n",
              "</div>\n",
              "      <button class=\"colab-df-convert\" onclick=\"convertToInteractive('df-10464239-e2df-4c5e-8484-cb114c674658')\"\n",
              "              title=\"Convert this dataframe to an interactive table.\"\n",
              "              style=\"display:none;\">\n",
              "        \n",
              "  <svg xmlns=\"http://www.w3.org/2000/svg\" height=\"24px\"viewBox=\"0 0 24 24\"\n",
              "       width=\"24px\">\n",
              "    <path d=\"M0 0h24v24H0V0z\" fill=\"none\"/>\n",
              "    <path d=\"M18.56 5.44l.94 2.06.94-2.06 2.06-.94-2.06-.94-.94-2.06-.94 2.06-2.06.94zm-11 1L8.5 8.5l.94-2.06 2.06-.94-2.06-.94L8.5 2.5l-.94 2.06-2.06.94zm10 10l.94 2.06.94-2.06 2.06-.94-2.06-.94-.94-2.06-.94 2.06-2.06.94z\"/><path d=\"M17.41 7.96l-1.37-1.37c-.4-.4-.92-.59-1.43-.59-.52 0-1.04.2-1.43.59L10.3 9.45l-7.72 7.72c-.78.78-.78 2.05 0 2.83L4 21.41c.39.39.9.59 1.41.59.51 0 1.02-.2 1.41-.59l7.78-7.78 2.81-2.81c.8-.78.8-2.07 0-2.86zM5.41 20L4 18.59l7.72-7.72 1.47 1.35L5.41 20z\"/>\n",
              "  </svg>\n",
              "      </button>\n",
              "      \n",
              "  <style>\n",
              "    .colab-df-container {\n",
              "      display:flex;\n",
              "      flex-wrap:wrap;\n",
              "      gap: 12px;\n",
              "    }\n",
              "\n",
              "    .colab-df-convert {\n",
              "      background-color: #E8F0FE;\n",
              "      border: none;\n",
              "      border-radius: 50%;\n",
              "      cursor: pointer;\n",
              "      display: none;\n",
              "      fill: #1967D2;\n",
              "      height: 32px;\n",
              "      padding: 0 0 0 0;\n",
              "      width: 32px;\n",
              "    }\n",
              "\n",
              "    .colab-df-convert:hover {\n",
              "      background-color: #E2EBFA;\n",
              "      box-shadow: 0px 1px 2px rgba(60, 64, 67, 0.3), 0px 1px 3px 1px rgba(60, 64, 67, 0.15);\n",
              "      fill: #174EA6;\n",
              "    }\n",
              "\n",
              "    [theme=dark] .colab-df-convert {\n",
              "      background-color: #3B4455;\n",
              "      fill: #D2E3FC;\n",
              "    }\n",
              "\n",
              "    [theme=dark] .colab-df-convert:hover {\n",
              "      background-color: #434B5C;\n",
              "      box-shadow: 0px 1px 3px 1px rgba(0, 0, 0, 0.15);\n",
              "      filter: drop-shadow(0px 1px 2px rgba(0, 0, 0, 0.3));\n",
              "      fill: #FFFFFF;\n",
              "    }\n",
              "  </style>\n",
              "\n",
              "      <script>\n",
              "        const buttonEl =\n",
              "          document.querySelector('#df-10464239-e2df-4c5e-8484-cb114c674658 button.colab-df-convert');\n",
              "        buttonEl.style.display =\n",
              "          google.colab.kernel.accessAllowed ? 'block' : 'none';\n",
              "\n",
              "        async function convertToInteractive(key) {\n",
              "          const element = document.querySelector('#df-10464239-e2df-4c5e-8484-cb114c674658');\n",
              "          const dataTable =\n",
              "            await google.colab.kernel.invokeFunction('convertToInteractive',\n",
              "                                                     [key], {});\n",
              "          if (!dataTable) return;\n",
              "\n",
              "          const docLinkHtml = 'Like what you see? Visit the ' +\n",
              "            '<a target=\"_blank\" href=https://colab.research.google.com/notebooks/data_table.ipynb>data table notebook</a>'\n",
              "            + ' to learn more about interactive tables.';\n",
              "          element.innerHTML = '';\n",
              "          dataTable['output_type'] = 'display_data';\n",
              "          await google.colab.output.renderOutput(dataTable, element);\n",
              "          const docLink = document.createElement('div');\n",
              "          docLink.innerHTML = docLinkHtml;\n",
              "          element.appendChild(docLink);\n",
              "        }\n",
              "      </script>\n",
              "    </div>\n",
              "  </div>\n",
              "  "
            ]
          },
          "metadata": {},
          "execution_count": 218
        }
      ]
    },
    {
      "cell_type": "code",
      "source": [
        "Month = {\n",
        "    \n",
        "    1   :  'January',\n",
        "    2   :  'February',\n",
        "    3   :  'March',\n",
        "    4   :  'April',\n",
        "    5   :  'May',\n",
        "    6   :  'June',\n",
        "    7   :  'July',\n",
        "    8   :  'August',\n",
        "    9   :  'September',\n",
        "    10  :  'October',\n",
        "    11  :  'November',\n",
        "    12  :  'December'\n",
        "    \n",
        "}"
      ],
      "metadata": {
        "id": "5yzW5yW_IMtS"
      },
      "execution_count": 219,
      "outputs": []
    },
    {
      "cell_type": "code",
      "source": [
        "df['Month'] = df['Month'].map(Month)"
      ],
      "metadata": {
        "id": "-sS_1ukCIOUM"
      },
      "execution_count": 220,
      "outputs": []
    },
    {
      "cell_type": "code",
      "source": [
        "df.head()"
      ],
      "metadata": {
        "colab": {
          "base_uri": "https://localhost:8080/",
          "height": 354
        },
        "id": "WsX7jlogIcsU",
        "outputId": "598eb97a-3dae-4572-af61-055649a9e02b"
      },
      "execution_count": 221,
      "outputs": [
        {
          "output_type": "execute_result",
          "data": {
            "text/plain": [
              "        Date   Countries  Local Industry Sector  Accident Level  \\\n",
              "0 2016-01-01  Country_01      1          Mining               0   \n",
              "1 2016-01-02  Country_02      2          Mining               0   \n",
              "2 2016-01-06  Country_01      3          Mining               0   \n",
              "3 2016-01-08  Country_01      4          Mining               0   \n",
              "4 2016-01-10  Country_01      4          Mining               3   \n",
              "\n",
              "   Potential Accident Level Gender Employee or Third Party  \\\n",
              "0                         3   Male             Third Party   \n",
              "1                         3   Male                Employee   \n",
              "2                         2   Male    Third Party (Remote)   \n",
              "3                         0   Male             Third Party   \n",
              "4                         3   Male             Third Party   \n",
              "\n",
              "         Critical Risk                                        Description  \\\n",
              "0              Pressed  While removing the drill rod of the Jumbo 08 f...   \n",
              "1  Pressurized Systems  During the activation of a sodium sulphide pum...   \n",
              "2         Manual Tools  In the sub-station MILPO located at level +170...   \n",
              "3               Others  Being 9:45 am. approximately in the Nv. 1880 C...   \n",
              "4               Others  Approximately at 11:45 a.m. in circumstances t...   \n",
              "\n",
              "   Year    Month    Weekday  \n",
              "0  2016  January     Friday  \n",
              "1  2016  January   Saturday  \n",
              "2  2016  January  Wednesday  \n",
              "3  2016  January     Friday  \n",
              "4  2016  January     Sunday  "
            ],
            "text/html": [
              "\n",
              "  <div id=\"df-09f99ac2-e2fd-4299-9872-f2687ee84db9\">\n",
              "    <div class=\"colab-df-container\">\n",
              "      <div>\n",
              "<style scoped>\n",
              "    .dataframe tbody tr th:only-of-type {\n",
              "        vertical-align: middle;\n",
              "    }\n",
              "\n",
              "    .dataframe tbody tr th {\n",
              "        vertical-align: top;\n",
              "    }\n",
              "\n",
              "    .dataframe thead th {\n",
              "        text-align: right;\n",
              "    }\n",
              "</style>\n",
              "<table border=\"1\" class=\"dataframe\">\n",
              "  <thead>\n",
              "    <tr style=\"text-align: right;\">\n",
              "      <th></th>\n",
              "      <th>Date</th>\n",
              "      <th>Countries</th>\n",
              "      <th>Local</th>\n",
              "      <th>Industry Sector</th>\n",
              "      <th>Accident Level</th>\n",
              "      <th>Potential Accident Level</th>\n",
              "      <th>Gender</th>\n",
              "      <th>Employee or Third Party</th>\n",
              "      <th>Critical Risk</th>\n",
              "      <th>Description</th>\n",
              "      <th>Year</th>\n",
              "      <th>Month</th>\n",
              "      <th>Weekday</th>\n",
              "    </tr>\n",
              "  </thead>\n",
              "  <tbody>\n",
              "    <tr>\n",
              "      <th>0</th>\n",
              "      <td>2016-01-01</td>\n",
              "      <td>Country_01</td>\n",
              "      <td>1</td>\n",
              "      <td>Mining</td>\n",
              "      <td>0</td>\n",
              "      <td>3</td>\n",
              "      <td>Male</td>\n",
              "      <td>Third Party</td>\n",
              "      <td>Pressed</td>\n",
              "      <td>While removing the drill rod of the Jumbo 08 f...</td>\n",
              "      <td>2016</td>\n",
              "      <td>January</td>\n",
              "      <td>Friday</td>\n",
              "    </tr>\n",
              "    <tr>\n",
              "      <th>1</th>\n",
              "      <td>2016-01-02</td>\n",
              "      <td>Country_02</td>\n",
              "      <td>2</td>\n",
              "      <td>Mining</td>\n",
              "      <td>0</td>\n",
              "      <td>3</td>\n",
              "      <td>Male</td>\n",
              "      <td>Employee</td>\n",
              "      <td>Pressurized Systems</td>\n",
              "      <td>During the activation of a sodium sulphide pum...</td>\n",
              "      <td>2016</td>\n",
              "      <td>January</td>\n",
              "      <td>Saturday</td>\n",
              "    </tr>\n",
              "    <tr>\n",
              "      <th>2</th>\n",
              "      <td>2016-01-06</td>\n",
              "      <td>Country_01</td>\n",
              "      <td>3</td>\n",
              "      <td>Mining</td>\n",
              "      <td>0</td>\n",
              "      <td>2</td>\n",
              "      <td>Male</td>\n",
              "      <td>Third Party (Remote)</td>\n",
              "      <td>Manual Tools</td>\n",
              "      <td>In the sub-station MILPO located at level +170...</td>\n",
              "      <td>2016</td>\n",
              "      <td>January</td>\n",
              "      <td>Wednesday</td>\n",
              "    </tr>\n",
              "    <tr>\n",
              "      <th>3</th>\n",
              "      <td>2016-01-08</td>\n",
              "      <td>Country_01</td>\n",
              "      <td>4</td>\n",
              "      <td>Mining</td>\n",
              "      <td>0</td>\n",
              "      <td>0</td>\n",
              "      <td>Male</td>\n",
              "      <td>Third Party</td>\n",
              "      <td>Others</td>\n",
              "      <td>Being 9:45 am. approximately in the Nv. 1880 C...</td>\n",
              "      <td>2016</td>\n",
              "      <td>January</td>\n",
              "      <td>Friday</td>\n",
              "    </tr>\n",
              "    <tr>\n",
              "      <th>4</th>\n",
              "      <td>2016-01-10</td>\n",
              "      <td>Country_01</td>\n",
              "      <td>4</td>\n",
              "      <td>Mining</td>\n",
              "      <td>3</td>\n",
              "      <td>3</td>\n",
              "      <td>Male</td>\n",
              "      <td>Third Party</td>\n",
              "      <td>Others</td>\n",
              "      <td>Approximately at 11:45 a.m. in circumstances t...</td>\n",
              "      <td>2016</td>\n",
              "      <td>January</td>\n",
              "      <td>Sunday</td>\n",
              "    </tr>\n",
              "  </tbody>\n",
              "</table>\n",
              "</div>\n",
              "      <button class=\"colab-df-convert\" onclick=\"convertToInteractive('df-09f99ac2-e2fd-4299-9872-f2687ee84db9')\"\n",
              "              title=\"Convert this dataframe to an interactive table.\"\n",
              "              style=\"display:none;\">\n",
              "        \n",
              "  <svg xmlns=\"http://www.w3.org/2000/svg\" height=\"24px\"viewBox=\"0 0 24 24\"\n",
              "       width=\"24px\">\n",
              "    <path d=\"M0 0h24v24H0V0z\" fill=\"none\"/>\n",
              "    <path d=\"M18.56 5.44l.94 2.06.94-2.06 2.06-.94-2.06-.94-.94-2.06-.94 2.06-2.06.94zm-11 1L8.5 8.5l.94-2.06 2.06-.94-2.06-.94L8.5 2.5l-.94 2.06-2.06.94zm10 10l.94 2.06.94-2.06 2.06-.94-2.06-.94-.94-2.06-.94 2.06-2.06.94z\"/><path d=\"M17.41 7.96l-1.37-1.37c-.4-.4-.92-.59-1.43-.59-.52 0-1.04.2-1.43.59L10.3 9.45l-7.72 7.72c-.78.78-.78 2.05 0 2.83L4 21.41c.39.39.9.59 1.41.59.51 0 1.02-.2 1.41-.59l7.78-7.78 2.81-2.81c.8-.78.8-2.07 0-2.86zM5.41 20L4 18.59l7.72-7.72 1.47 1.35L5.41 20z\"/>\n",
              "  </svg>\n",
              "      </button>\n",
              "      \n",
              "  <style>\n",
              "    .colab-df-container {\n",
              "      display:flex;\n",
              "      flex-wrap:wrap;\n",
              "      gap: 12px;\n",
              "    }\n",
              "\n",
              "    .colab-df-convert {\n",
              "      background-color: #E8F0FE;\n",
              "      border: none;\n",
              "      border-radius: 50%;\n",
              "      cursor: pointer;\n",
              "      display: none;\n",
              "      fill: #1967D2;\n",
              "      height: 32px;\n",
              "      padding: 0 0 0 0;\n",
              "      width: 32px;\n",
              "    }\n",
              "\n",
              "    .colab-df-convert:hover {\n",
              "      background-color: #E2EBFA;\n",
              "      box-shadow: 0px 1px 2px rgba(60, 64, 67, 0.3), 0px 1px 3px 1px rgba(60, 64, 67, 0.15);\n",
              "      fill: #174EA6;\n",
              "    }\n",
              "\n",
              "    [theme=dark] .colab-df-convert {\n",
              "      background-color: #3B4455;\n",
              "      fill: #D2E3FC;\n",
              "    }\n",
              "\n",
              "    [theme=dark] .colab-df-convert:hover {\n",
              "      background-color: #434B5C;\n",
              "      box-shadow: 0px 1px 3px 1px rgba(0, 0, 0, 0.15);\n",
              "      filter: drop-shadow(0px 1px 2px rgba(0, 0, 0, 0.3));\n",
              "      fill: #FFFFFF;\n",
              "    }\n",
              "  </style>\n",
              "\n",
              "      <script>\n",
              "        const buttonEl =\n",
              "          document.querySelector('#df-09f99ac2-e2fd-4299-9872-f2687ee84db9 button.colab-df-convert');\n",
              "        buttonEl.style.display =\n",
              "          google.colab.kernel.accessAllowed ? 'block' : 'none';\n",
              "\n",
              "        async function convertToInteractive(key) {\n",
              "          const element = document.querySelector('#df-09f99ac2-e2fd-4299-9872-f2687ee84db9');\n",
              "          const dataTable =\n",
              "            await google.colab.kernel.invokeFunction('convertToInteractive',\n",
              "                                                     [key], {});\n",
              "          if (!dataTable) return;\n",
              "\n",
              "          const docLinkHtml = 'Like what you see? Visit the ' +\n",
              "            '<a target=\"_blank\" href=https://colab.research.google.com/notebooks/data_table.ipynb>data table notebook</a>'\n",
              "            + ' to learn more about interactive tables.';\n",
              "          element.innerHTML = '';\n",
              "          dataTable['output_type'] = 'display_data';\n",
              "          await google.colab.output.renderOutput(dataTable, element);\n",
              "          const docLink = document.createElement('div');\n",
              "          docLink.innerHTML = docLinkHtml;\n",
              "          element.appendChild(docLink);\n",
              "        }\n",
              "      </script>\n",
              "    </div>\n",
              "  </div>\n",
              "  "
            ]
          },
          "metadata": {},
          "execution_count": 221
        }
      ]
    },
    {
      "cell_type": "code",
      "source": [
        "df['Critical Risk']=df['Critical Risk'].replace('\\nNot applicable','Not applicable')"
      ],
      "metadata": {
        "id": "_fCRdqgQrEJo"
      },
      "execution_count": 222,
      "outputs": []
    },
    {
      "cell_type": "markdown",
      "source": [
        "**only one column has unclean data**"
      ],
      "metadata": {
        "id": "vmEWrelGsJaJ"
      }
    },
    {
      "cell_type": "code",
      "source": [
        "df['Critical Risk'].value_counts()"
      ],
      "metadata": {
        "colab": {
          "base_uri": "https://localhost:8080/"
        },
        "id": "ITp8YxZirmOp",
        "outputId": "c1e1b6eb-8db8-4c21-d122-d04d8287cd8d"
      },
      "execution_count": 223,
      "outputs": [
        {
          "output_type": "execute_result",
          "data": {
            "text/plain": [
              "Others                                       232\n",
              "Pressed                                       24\n",
              "Manual Tools                                  20\n",
              "Chemical substances                           17\n",
              "Venomous Animals                              16\n",
              "Cut                                           14\n",
              "Projection                                    13\n",
              "Bees                                          10\n",
              "Fall                                           9\n",
              "Vehicles and Mobile Equipment                  8\n",
              "Fall prevention (same level)                   7\n",
              "remains of choco                               7\n",
              "Pressurized Systems                            7\n",
              "Fall prevention                                6\n",
              "Suspended Loads                                6\n",
              "Blocking and isolation of energies             3\n",
              "Pressurized Systems / Chemical Substances      3\n",
              "Power lock                                     3\n",
              "Liquid Metal                                   3\n",
              "Projection of fragments                        2\n",
              "Machine Protection                             2\n",
              "Electrical Shock                               2\n",
              "Individual protection equipment                1\n",
              "Projection/Manual Tools                        1\n",
              "Burn                                           1\n",
              "Poll                                           1\n",
              "Projection/Choco                               1\n",
              "Projection/Burning                             1\n",
              "Plates                                         1\n",
              "Confined space                                 1\n",
              "Traffic                                        1\n",
              "Not applicable                                 1\n",
              "Electrical installation                        1\n",
              "Name: Critical Risk, dtype: int64"
            ]
          },
          "metadata": {},
          "execution_count": 223
        }
      ]
    },
    {
      "cell_type": "code",
      "source": [
        "columns = df[df.columns[~df.columns.isin(['Description', 'Unnamed: 0', 'Data'])]].columns.tolist()\n",
        "for cols in columns:\n",
        "    print(f'Unique values for {cols} is \\n{df[cols].unique()}\\n')"
      ],
      "metadata": {
        "colab": {
          "base_uri": "https://localhost:8080/"
        },
        "id": "z9HWDvOnSLRK",
        "outputId": "6d84b68e-5d7b-44a8-f533-2fcfa995da4c"
      },
      "execution_count": 224,
      "outputs": [
        {
          "output_type": "stream",
          "name": "stdout",
          "text": [
            "Unique values for Date is \n",
            "['2016-01-01T00:00:00.000000000' '2016-01-02T00:00:00.000000000'\n",
            " '2016-01-06T00:00:00.000000000' '2016-01-08T00:00:00.000000000'\n",
            " '2016-01-10T00:00:00.000000000' '2016-01-12T00:00:00.000000000'\n",
            " '2016-01-16T00:00:00.000000000' '2016-01-17T00:00:00.000000000'\n",
            " '2016-01-19T00:00:00.000000000' '2016-01-26T00:00:00.000000000'\n",
            " '2016-01-28T00:00:00.000000000' '2016-01-30T00:00:00.000000000'\n",
            " '2016-02-01T00:00:00.000000000' '2016-02-02T00:00:00.000000000'\n",
            " '2016-02-04T00:00:00.000000000' '2016-02-06T00:00:00.000000000'\n",
            " '2016-02-07T00:00:00.000000000' '2016-02-08T00:00:00.000000000'\n",
            " '2016-02-21T00:00:00.000000000' '2016-02-25T00:00:00.000000000'\n",
            " '2016-02-09T00:00:00.000000000' '2016-02-10T00:00:00.000000000'\n",
            " '2016-02-15T00:00:00.000000000' '2016-02-14T00:00:00.000000000'\n",
            " '2016-02-13T00:00:00.000000000' '2016-02-16T00:00:00.000000000'\n",
            " '2016-02-17T00:00:00.000000000' '2016-02-19T00:00:00.000000000'\n",
            " '2016-02-20T00:00:00.000000000' '2016-02-18T00:00:00.000000000'\n",
            " '2016-02-22T00:00:00.000000000' '2016-02-24T00:00:00.000000000'\n",
            " '2016-02-29T00:00:00.000000000' '2016-02-26T00:00:00.000000000'\n",
            " '2016-02-27T00:00:00.000000000' '2016-03-02T00:00:00.000000000'\n",
            " '2016-03-03T00:00:00.000000000' '2016-03-04T00:00:00.000000000'\n",
            " '2016-03-05T00:00:00.000000000' '2016-03-06T00:00:00.000000000'\n",
            " '2016-03-09T00:00:00.000000000' '2016-03-11T00:00:00.000000000'\n",
            " '2016-03-13T00:00:00.000000000' '2016-03-12T00:00:00.000000000'\n",
            " '2016-03-14T00:00:00.000000000' '2016-03-16T00:00:00.000000000'\n",
            " '2016-03-10T00:00:00.000000000' '2016-03-17T00:00:00.000000000'\n",
            " '2016-03-18T00:00:00.000000000' '2016-03-19T00:00:00.000000000'\n",
            " '2016-03-22T00:00:00.000000000' '2016-03-25T00:00:00.000000000'\n",
            " '2016-03-30T00:00:00.000000000' '2016-03-31T00:00:00.000000000'\n",
            " '2016-04-01T00:00:00.000000000' '2016-04-03T00:00:00.000000000'\n",
            " '2016-04-02T00:00:00.000000000' '2016-03-24T00:00:00.000000000'\n",
            " '2016-04-04T00:00:00.000000000' '2016-04-05T00:00:00.000000000'\n",
            " '2016-04-07T00:00:00.000000000' '2016-04-08T00:00:00.000000000'\n",
            " '2016-04-11T00:00:00.000000000' '2016-04-14T00:00:00.000000000'\n",
            " '2016-04-16T00:00:00.000000000' '2016-04-15T00:00:00.000000000'\n",
            " '2016-04-17T00:00:00.000000000' '2016-04-18T00:00:00.000000000'\n",
            " '2016-04-21T00:00:00.000000000' '2016-04-22T00:00:00.000000000'\n",
            " '2016-04-23T00:00:00.000000000' '2016-04-26T00:00:00.000000000'\n",
            " '2016-04-28T00:00:00.000000000' '2016-04-29T00:00:00.000000000'\n",
            " '2016-04-30T00:00:00.000000000' '2016-05-01T00:00:00.000000000'\n",
            " '2016-05-02T00:00:00.000000000' '2016-05-04T00:00:00.000000000'\n",
            " '2016-05-03T00:00:00.000000000' '2016-05-05T00:00:00.000000000'\n",
            " '2016-05-11T00:00:00.000000000' '2016-05-12T00:00:00.000000000'\n",
            " '2016-05-14T00:00:00.000000000' '2016-05-17T00:00:00.000000000'\n",
            " '2016-05-19T00:00:00.000000000' '2016-05-18T00:00:00.000000000'\n",
            " '2016-05-22T00:00:00.000000000' '2016-05-20T00:00:00.000000000'\n",
            " '2016-05-24T00:00:00.000000000' '2016-05-25T00:00:00.000000000'\n",
            " '2016-05-27T00:00:00.000000000' '2016-05-26T00:00:00.000000000'\n",
            " '2016-06-01T00:00:00.000000000' '2016-06-02T00:00:00.000000000'\n",
            " '2016-06-03T00:00:00.000000000' '2016-06-04T00:00:00.000000000'\n",
            " '2016-06-05T00:00:00.000000000' '2016-06-08T00:00:00.000000000'\n",
            " '2016-06-07T00:00:00.000000000' '2016-06-10T00:00:00.000000000'\n",
            " '2016-06-13T00:00:00.000000000' '2016-06-16T00:00:00.000000000'\n",
            " '2016-06-18T00:00:00.000000000' '2016-06-17T00:00:00.000000000'\n",
            " '2016-06-19T00:00:00.000000000' '2016-06-21T00:00:00.000000000'\n",
            " '2016-06-22T00:00:00.000000000' '2016-06-23T00:00:00.000000000'\n",
            " '2016-06-24T00:00:00.000000000' '2016-06-29T00:00:00.000000000'\n",
            " '2016-07-02T00:00:00.000000000' '2016-07-04T00:00:00.000000000'\n",
            " '2016-07-08T00:00:00.000000000' '2016-07-07T00:00:00.000000000'\n",
            " '2016-07-09T00:00:00.000000000' '2016-07-10T00:00:00.000000000'\n",
            " '2016-07-11T00:00:00.000000000' '2016-07-14T00:00:00.000000000'\n",
            " '2016-07-15T00:00:00.000000000' '2016-07-16T00:00:00.000000000'\n",
            " '2016-07-18T00:00:00.000000000' '2016-07-20T00:00:00.000000000'\n",
            " '2016-07-21T00:00:00.000000000' '2016-07-23T00:00:00.000000000'\n",
            " '2016-07-27T00:00:00.000000000' '2016-07-29T00:00:00.000000000'\n",
            " '2016-07-30T00:00:00.000000000' '2016-08-02T00:00:00.000000000'\n",
            " '2016-08-01T00:00:00.000000000' '2016-08-04T00:00:00.000000000'\n",
            " '2016-08-11T00:00:00.000000000' '2016-08-12T00:00:00.000000000'\n",
            " '2016-08-14T00:00:00.000000000' '2016-08-15T00:00:00.000000000'\n",
            " '2016-08-18T00:00:00.000000000' '2016-08-19T00:00:00.000000000'\n",
            " '2016-08-22T00:00:00.000000000' '2016-08-24T00:00:00.000000000'\n",
            " '2016-08-25T00:00:00.000000000' '2016-08-29T00:00:00.000000000'\n",
            " '2016-08-27T00:00:00.000000000' '2016-08-30T00:00:00.000000000'\n",
            " '2016-09-01T00:00:00.000000000' '2016-09-02T00:00:00.000000000'\n",
            " '2016-09-04T00:00:00.000000000' '2016-09-03T00:00:00.000000000'\n",
            " '2016-09-06T00:00:00.000000000' '2016-09-05T00:00:00.000000000'\n",
            " '2016-09-13T00:00:00.000000000' '2016-09-12T00:00:00.000000000'\n",
            " '2016-09-15T00:00:00.000000000' '2016-09-17T00:00:00.000000000'\n",
            " '2016-09-16T00:00:00.000000000' '2016-09-20T00:00:00.000000000'\n",
            " '2016-09-21T00:00:00.000000000' '2016-09-22T00:00:00.000000000'\n",
            " '2016-09-27T00:00:00.000000000' '2016-09-29T00:00:00.000000000'\n",
            " '2016-09-30T00:00:00.000000000' '2016-10-01T00:00:00.000000000'\n",
            " '2016-10-03T00:00:00.000000000' '2016-10-04T00:00:00.000000000'\n",
            " '2016-10-08T00:00:00.000000000' '2016-10-10T00:00:00.000000000'\n",
            " '2016-10-11T00:00:00.000000000' '2016-10-13T00:00:00.000000000'\n",
            " '2016-10-18T00:00:00.000000000' '2016-10-20T00:00:00.000000000'\n",
            " '2016-10-23T00:00:00.000000000' '2016-10-24T00:00:00.000000000'\n",
            " '2016-10-26T00:00:00.000000000' '2016-10-27T00:00:00.000000000'\n",
            " '2016-10-29T00:00:00.000000000' '2016-11-04T00:00:00.000000000'\n",
            " '2016-11-08T00:00:00.000000000' '2016-11-11T00:00:00.000000000'\n",
            " '2016-11-13T00:00:00.000000000' '2016-11-19T00:00:00.000000000'\n",
            " '2016-11-21T00:00:00.000000000' '2016-11-23T00:00:00.000000000'\n",
            " '2016-11-25T00:00:00.000000000' '2016-11-28T00:00:00.000000000'\n",
            " '2016-11-29T00:00:00.000000000' '2016-11-30T00:00:00.000000000'\n",
            " '2016-12-01T00:00:00.000000000' '2016-12-08T00:00:00.000000000'\n",
            " '2016-12-09T00:00:00.000000000' '2016-12-10T00:00:00.000000000'\n",
            " '2016-12-12T00:00:00.000000000' '2016-12-13T00:00:00.000000000'\n",
            " '2016-12-15T00:00:00.000000000' '2016-12-16T00:00:00.000000000'\n",
            " '2016-12-19T00:00:00.000000000' '2016-12-23T00:00:00.000000000'\n",
            " '2016-12-22T00:00:00.000000000' '2016-12-26T00:00:00.000000000'\n",
            " '2016-12-28T00:00:00.000000000' '2016-12-30T00:00:00.000000000'\n",
            " '2016-12-31T00:00:00.000000000' '2017-01-02T00:00:00.000000000'\n",
            " '2017-01-05T00:00:00.000000000' '2017-01-06T00:00:00.000000000'\n",
            " '2017-01-07T00:00:00.000000000' '2017-01-08T00:00:00.000000000'\n",
            " '2017-01-09T00:00:00.000000000' '2017-01-10T00:00:00.000000000'\n",
            " '2017-01-12T00:00:00.000000000' '2017-01-14T00:00:00.000000000'\n",
            " '2017-01-17T00:00:00.000000000' '2017-01-20T00:00:00.000000000'\n",
            " '2017-01-21T00:00:00.000000000' '2017-01-23T00:00:00.000000000'\n",
            " '2017-01-24T00:00:00.000000000' '2017-01-25T00:00:00.000000000'\n",
            " '2017-01-27T00:00:00.000000000' '2017-01-29T00:00:00.000000000'\n",
            " '2017-01-28T00:00:00.000000000' '2017-01-31T00:00:00.000000000'\n",
            " '2017-02-01T00:00:00.000000000' '2017-02-04T00:00:00.000000000'\n",
            " '2017-02-05T00:00:00.000000000' '2017-02-07T00:00:00.000000000'\n",
            " '2017-02-08T00:00:00.000000000' '2017-02-09T00:00:00.000000000'\n",
            " '2017-02-13T00:00:00.000000000' '2017-02-14T00:00:00.000000000'\n",
            " '2017-02-15T00:00:00.000000000' '2017-02-16T00:00:00.000000000'\n",
            " '2017-02-17T00:00:00.000000000' '2017-02-23T00:00:00.000000000'\n",
            " '2017-02-25T00:00:00.000000000' '2017-02-26T00:00:00.000000000'\n",
            " '2017-02-27T00:00:00.000000000' '2017-03-01T00:00:00.000000000'\n",
            " '2017-03-02T00:00:00.000000000' '2017-03-04T00:00:00.000000000'\n",
            " '2017-03-06T00:00:00.000000000' '2017-03-08T00:00:00.000000000'\n",
            " '2017-03-09T00:00:00.000000000' '2017-03-10T00:00:00.000000000'\n",
            " '2017-03-15T00:00:00.000000000' '2017-03-18T00:00:00.000000000'\n",
            " '2017-03-22T00:00:00.000000000' '2017-03-25T00:00:00.000000000'\n",
            " '2017-03-31T00:00:00.000000000' '2017-04-04T00:00:00.000000000'\n",
            " '2017-04-05T00:00:00.000000000' '2017-04-07T00:00:00.000000000'\n",
            " '2017-04-06T00:00:00.000000000' '2017-04-10T00:00:00.000000000'\n",
            " '2017-04-08T00:00:00.000000000' '2017-04-11T00:00:00.000000000'\n",
            " '2017-04-13T00:00:00.000000000' '2017-04-12T00:00:00.000000000'\n",
            " '2017-04-23T00:00:00.000000000' '2017-04-19T00:00:00.000000000'\n",
            " '2017-04-25T00:00:00.000000000' '2017-04-24T00:00:00.000000000'\n",
            " '2017-04-28T00:00:00.000000000' '2017-04-29T00:00:00.000000000'\n",
            " '2017-04-30T00:00:00.000000000' '2017-05-05T00:00:00.000000000'\n",
            " '2017-05-06T00:00:00.000000000' '2017-05-10T00:00:00.000000000'\n",
            " '2017-05-16T00:00:00.000000000' '2017-05-17T00:00:00.000000000'\n",
            " '2017-05-18T00:00:00.000000000' '2017-05-19T00:00:00.000000000'\n",
            " '2017-05-23T00:00:00.000000000' '2017-05-30T00:00:00.000000000'\n",
            " '2017-06-04T00:00:00.000000000' '2017-06-09T00:00:00.000000000'\n",
            " '2017-06-11T00:00:00.000000000' '2017-06-14T00:00:00.000000000'\n",
            " '2017-06-15T00:00:00.000000000' '2017-06-17T00:00:00.000000000'\n",
            " '2017-06-18T00:00:00.000000000' '2017-06-24T00:00:00.000000000'\n",
            " '2017-06-20T00:00:00.000000000' '2017-06-23T00:00:00.000000000'\n",
            " '2017-06-19T00:00:00.000000000' '2017-06-22T00:00:00.000000000'\n",
            " '2017-06-29T00:00:00.000000000' '2017-07-04T00:00:00.000000000'\n",
            " '2017-07-05T00:00:00.000000000' '2017-07-06T00:00:00.000000000'\n",
            " '2017-07-09T00:00:00.000000000']\n",
            "\n",
            "Unique values for Countries is \n",
            "['Country_01' 'Country_02' 'Country_03']\n",
            "\n",
            "Unique values for Local is \n",
            "[ 1  2  3  4  5  6  7  8 10  9 11 12]\n",
            "\n",
            "Unique values for Industry Sector is \n",
            "['Mining' 'Metals' 'Others']\n",
            "\n",
            "Unique values for Accident Level is \n",
            "[0 3 2 1 4]\n",
            "\n",
            "Unique values for Potential Accident Level is \n",
            "[3 2 0 1 4 5]\n",
            "\n",
            "Unique values for Gender is \n",
            "['Male' 'Female']\n",
            "\n",
            "Unique values for Employee or Third Party is \n",
            "['Third Party' 'Employee' 'Third Party (Remote)']\n",
            "\n",
            "Unique values for Critical Risk is \n",
            "['Pressed' 'Pressurized Systems' 'Manual Tools' 'Others'\n",
            " 'Fall prevention (same level)' 'Chemical substances' 'Liquid Metal'\n",
            " 'Electrical installation' 'Confined space'\n",
            " 'Pressurized Systems / Chemical Substances'\n",
            " 'Blocking and isolation of energies' 'Suspended Loads' 'Poll' 'Cut'\n",
            " 'Fall' 'Bees' 'Fall prevention' 'Not applicable' 'Traffic' 'Projection'\n",
            " 'Venomous Animals' 'Plates' 'Projection/Burning' 'remains of choco'\n",
            " 'Vehicles and Mobile Equipment' 'Projection/Choco' 'Machine Protection'\n",
            " 'Power lock' 'Burn' 'Projection/Manual Tools'\n",
            " 'Individual protection equipment' 'Electrical Shock'\n",
            " 'Projection of fragments']\n",
            "\n",
            "Unique values for Year is \n",
            "[2016 2017]\n",
            "\n",
            "Unique values for Month is \n",
            "['January' 'February' 'March' 'April' 'May' 'June' 'July' 'August'\n",
            " 'September' 'October' 'November' 'December']\n",
            "\n",
            "Unique values for Weekday is \n",
            "['Friday' 'Saturday' 'Wednesday' 'Sunday' 'Tuesday' 'Thursday' 'Monday']\n",
            "\n"
          ]
        }
      ]
    },
    {
      "cell_type": "code",
      "source": [
        "df.sample(5)"
      ],
      "metadata": {
        "colab": {
          "base_uri": "https://localhost:8080/",
          "height": 354
        },
        "id": "_eJrnSj3swyZ",
        "outputId": "2fb74043-a720-4ad7-e348-3cdc83efbc6c"
      },
      "execution_count": 225,
      "outputs": [
        {
          "output_type": "execute_result",
          "data": {
            "text/plain": [
              "          Date   Countries  Local Industry Sector  Accident Level  \\\n",
              "335 2017-02-23  Country_02      7          Mining               0   \n",
              "419 2017-06-29  Country_02      2          Mining               0   \n",
              "403 2017-06-11  Country_01      4          Mining               0   \n",
              "198 2016-08-24  Country_01      1          Mining               0   \n",
              "124 2016-05-22  Country_01      3          Mining               0   \n",
              "\n",
              "     Potential Accident Level Gender Employee or Third Party  \\\n",
              "335                         2   Male    Third Party (Remote)   \n",
              "419                         2   Male                Employee   \n",
              "403                         1   Male             Third Party   \n",
              "198                         1   Male                Employee   \n",
              "124                         3   Male             Third Party   \n",
              "\n",
              "        Critical Risk                                        Description  \\\n",
              "335  Venomous Animals  During the transport of pieces of wood with th...   \n",
              "419           Pressed  After maintenance on Boltec 03 at level 285 GT...   \n",
              "403            Others  In circumstances that the worker prepared food...   \n",
              "198            Others  Once the topographic survey in the Stp. 440 (E...   \n",
              "124            Others  During the transit of the fuel tanker of level...   \n",
              "\n",
              "     Year     Month    Weekday  \n",
              "335  2017  February   Thursday  \n",
              "419  2017      June   Thursday  \n",
              "403  2017      June     Sunday  \n",
              "198  2016    August  Wednesday  \n",
              "124  2016       May     Sunday  "
            ],
            "text/html": [
              "\n",
              "  <div id=\"df-ed003af6-1638-458b-b473-a5fba2ea811b\">\n",
              "    <div class=\"colab-df-container\">\n",
              "      <div>\n",
              "<style scoped>\n",
              "    .dataframe tbody tr th:only-of-type {\n",
              "        vertical-align: middle;\n",
              "    }\n",
              "\n",
              "    .dataframe tbody tr th {\n",
              "        vertical-align: top;\n",
              "    }\n",
              "\n",
              "    .dataframe thead th {\n",
              "        text-align: right;\n",
              "    }\n",
              "</style>\n",
              "<table border=\"1\" class=\"dataframe\">\n",
              "  <thead>\n",
              "    <tr style=\"text-align: right;\">\n",
              "      <th></th>\n",
              "      <th>Date</th>\n",
              "      <th>Countries</th>\n",
              "      <th>Local</th>\n",
              "      <th>Industry Sector</th>\n",
              "      <th>Accident Level</th>\n",
              "      <th>Potential Accident Level</th>\n",
              "      <th>Gender</th>\n",
              "      <th>Employee or Third Party</th>\n",
              "      <th>Critical Risk</th>\n",
              "      <th>Description</th>\n",
              "      <th>Year</th>\n",
              "      <th>Month</th>\n",
              "      <th>Weekday</th>\n",
              "    </tr>\n",
              "  </thead>\n",
              "  <tbody>\n",
              "    <tr>\n",
              "      <th>335</th>\n",
              "      <td>2017-02-23</td>\n",
              "      <td>Country_02</td>\n",
              "      <td>7</td>\n",
              "      <td>Mining</td>\n",
              "      <td>0</td>\n",
              "      <td>2</td>\n",
              "      <td>Male</td>\n",
              "      <td>Third Party (Remote)</td>\n",
              "      <td>Venomous Animals</td>\n",
              "      <td>During the transport of pieces of wood with th...</td>\n",
              "      <td>2017</td>\n",
              "      <td>February</td>\n",
              "      <td>Thursday</td>\n",
              "    </tr>\n",
              "    <tr>\n",
              "      <th>419</th>\n",
              "      <td>2017-06-29</td>\n",
              "      <td>Country_02</td>\n",
              "      <td>2</td>\n",
              "      <td>Mining</td>\n",
              "      <td>0</td>\n",
              "      <td>2</td>\n",
              "      <td>Male</td>\n",
              "      <td>Employee</td>\n",
              "      <td>Pressed</td>\n",
              "      <td>After maintenance on Boltec 03 at level 285 GT...</td>\n",
              "      <td>2017</td>\n",
              "      <td>June</td>\n",
              "      <td>Thursday</td>\n",
              "    </tr>\n",
              "    <tr>\n",
              "      <th>403</th>\n",
              "      <td>2017-06-11</td>\n",
              "      <td>Country_01</td>\n",
              "      <td>4</td>\n",
              "      <td>Mining</td>\n",
              "      <td>0</td>\n",
              "      <td>1</td>\n",
              "      <td>Male</td>\n",
              "      <td>Third Party</td>\n",
              "      <td>Others</td>\n",
              "      <td>In circumstances that the worker prepared food...</td>\n",
              "      <td>2017</td>\n",
              "      <td>June</td>\n",
              "      <td>Sunday</td>\n",
              "    </tr>\n",
              "    <tr>\n",
              "      <th>198</th>\n",
              "      <td>2016-08-24</td>\n",
              "      <td>Country_01</td>\n",
              "      <td>1</td>\n",
              "      <td>Mining</td>\n",
              "      <td>0</td>\n",
              "      <td>1</td>\n",
              "      <td>Male</td>\n",
              "      <td>Employee</td>\n",
              "      <td>Others</td>\n",
              "      <td>Once the topographic survey in the Stp. 440 (E...</td>\n",
              "      <td>2016</td>\n",
              "      <td>August</td>\n",
              "      <td>Wednesday</td>\n",
              "    </tr>\n",
              "    <tr>\n",
              "      <th>124</th>\n",
              "      <td>2016-05-22</td>\n",
              "      <td>Country_01</td>\n",
              "      <td>3</td>\n",
              "      <td>Mining</td>\n",
              "      <td>0</td>\n",
              "      <td>3</td>\n",
              "      <td>Male</td>\n",
              "      <td>Third Party</td>\n",
              "      <td>Others</td>\n",
              "      <td>During the transit of the fuel tanker of level...</td>\n",
              "      <td>2016</td>\n",
              "      <td>May</td>\n",
              "      <td>Sunday</td>\n",
              "    </tr>\n",
              "  </tbody>\n",
              "</table>\n",
              "</div>\n",
              "      <button class=\"colab-df-convert\" onclick=\"convertToInteractive('df-ed003af6-1638-458b-b473-a5fba2ea811b')\"\n",
              "              title=\"Convert this dataframe to an interactive table.\"\n",
              "              style=\"display:none;\">\n",
              "        \n",
              "  <svg xmlns=\"http://www.w3.org/2000/svg\" height=\"24px\"viewBox=\"0 0 24 24\"\n",
              "       width=\"24px\">\n",
              "    <path d=\"M0 0h24v24H0V0z\" fill=\"none\"/>\n",
              "    <path d=\"M18.56 5.44l.94 2.06.94-2.06 2.06-.94-2.06-.94-.94-2.06-.94 2.06-2.06.94zm-11 1L8.5 8.5l.94-2.06 2.06-.94-2.06-.94L8.5 2.5l-.94 2.06-2.06.94zm10 10l.94 2.06.94-2.06 2.06-.94-2.06-.94-.94-2.06-.94 2.06-2.06.94z\"/><path d=\"M17.41 7.96l-1.37-1.37c-.4-.4-.92-.59-1.43-.59-.52 0-1.04.2-1.43.59L10.3 9.45l-7.72 7.72c-.78.78-.78 2.05 0 2.83L4 21.41c.39.39.9.59 1.41.59.51 0 1.02-.2 1.41-.59l7.78-7.78 2.81-2.81c.8-.78.8-2.07 0-2.86zM5.41 20L4 18.59l7.72-7.72 1.47 1.35L5.41 20z\"/>\n",
              "  </svg>\n",
              "      </button>\n",
              "      \n",
              "  <style>\n",
              "    .colab-df-container {\n",
              "      display:flex;\n",
              "      flex-wrap:wrap;\n",
              "      gap: 12px;\n",
              "    }\n",
              "\n",
              "    .colab-df-convert {\n",
              "      background-color: #E8F0FE;\n",
              "      border: none;\n",
              "      border-radius: 50%;\n",
              "      cursor: pointer;\n",
              "      display: none;\n",
              "      fill: #1967D2;\n",
              "      height: 32px;\n",
              "      padding: 0 0 0 0;\n",
              "      width: 32px;\n",
              "    }\n",
              "\n",
              "    .colab-df-convert:hover {\n",
              "      background-color: #E2EBFA;\n",
              "      box-shadow: 0px 1px 2px rgba(60, 64, 67, 0.3), 0px 1px 3px 1px rgba(60, 64, 67, 0.15);\n",
              "      fill: #174EA6;\n",
              "    }\n",
              "\n",
              "    [theme=dark] .colab-df-convert {\n",
              "      background-color: #3B4455;\n",
              "      fill: #D2E3FC;\n",
              "    }\n",
              "\n",
              "    [theme=dark] .colab-df-convert:hover {\n",
              "      background-color: #434B5C;\n",
              "      box-shadow: 0px 1px 3px 1px rgba(0, 0, 0, 0.15);\n",
              "      filter: drop-shadow(0px 1px 2px rgba(0, 0, 0, 0.3));\n",
              "      fill: #FFFFFF;\n",
              "    }\n",
              "  </style>\n",
              "\n",
              "      <script>\n",
              "        const buttonEl =\n",
              "          document.querySelector('#df-ed003af6-1638-458b-b473-a5fba2ea811b button.colab-df-convert');\n",
              "        buttonEl.style.display =\n",
              "          google.colab.kernel.accessAllowed ? 'block' : 'none';\n",
              "\n",
              "        async function convertToInteractive(key) {\n",
              "          const element = document.querySelector('#df-ed003af6-1638-458b-b473-a5fba2ea811b');\n",
              "          const dataTable =\n",
              "            await google.colab.kernel.invokeFunction('convertToInteractive',\n",
              "                                                     [key], {});\n",
              "          if (!dataTable) return;\n",
              "\n",
              "          const docLinkHtml = 'Like what you see? Visit the ' +\n",
              "            '<a target=\"_blank\" href=https://colab.research.google.com/notebooks/data_table.ipynb>data table notebook</a>'\n",
              "            + ' to learn more about interactive tables.';\n",
              "          element.innerHTML = '';\n",
              "          dataTable['output_type'] = 'display_data';\n",
              "          await google.colab.output.renderOutput(dataTable, element);\n",
              "          const docLink = document.createElement('div');\n",
              "          docLink.innerHTML = docLinkHtml;\n",
              "          element.appendChild(docLink);\n",
              "        }\n",
              "      </script>\n",
              "    </div>\n",
              "  </div>\n",
              "  "
            ]
          },
          "metadata": {},
          "execution_count": 225
        }
      ]
    },
    {
      "cell_type": "code",
      "source": [
        "df.info()"
      ],
      "metadata": {
        "colab": {
          "base_uri": "https://localhost:8080/"
        },
        "id": "gVqF8gspPnGr",
        "outputId": "977e7d58-501b-4e9f-de37-bb37cf0fdbb6"
      },
      "execution_count": 226,
      "outputs": [
        {
          "output_type": "stream",
          "name": "stdout",
          "text": [
            "<class 'pandas.core.frame.DataFrame'>\n",
            "RangeIndex: 425 entries, 0 to 424\n",
            "Data columns (total 13 columns):\n",
            " #   Column                    Non-Null Count  Dtype         \n",
            "---  ------                    --------------  -----         \n",
            " 0   Date                      425 non-null    datetime64[ns]\n",
            " 1   Countries                 425 non-null    object        \n",
            " 2   Local                     425 non-null    int64         \n",
            " 3   Industry Sector           425 non-null    object        \n",
            " 4   Accident Level            425 non-null    int64         \n",
            " 5   Potential Accident Level  425 non-null    int64         \n",
            " 6   Gender                    425 non-null    object        \n",
            " 7   Employee or Third Party   425 non-null    object        \n",
            " 8   Critical Risk             425 non-null    object        \n",
            " 9   Description               425 non-null    object        \n",
            " 10  Year                      425 non-null    int64         \n",
            " 11  Month                     425 non-null    object        \n",
            " 12  Weekday                   425 non-null    object        \n",
            "dtypes: datetime64[ns](1), int64(4), object(8)\n",
            "memory usage: 43.3+ KB\n"
          ]
        }
      ]
    },
    {
      "cell_type": "markdown",
      "source": [
        "### Data Visualisation\n",
        "### Univariate Analysis"
      ],
      "metadata": {
        "id": "pZKhVAU9J-Bm"
      }
    },
    {
      "cell_type": "markdown",
      "source": [
        "#### Countries"
      ],
      "metadata": {
        "id": "ehEqGYZAKLdE"
      }
    },
    {
      "cell_type": "code",
      "source": [
        "plt.figure(figsize=(15,5))\n",
        "plt.subplot(1,2,1)\n",
        "sns.countplot(df['Countries']);\n",
        "plt.xlabel(\"\\nCountries\")\n",
        "\n",
        "plt.figure(figsize=(6,6))\n",
        "df['Countries'].value_counts().plot.pie(shadow=True,autopct='%1.f%%', explode=(0.1,0.1,0.1))"
      ],
      "metadata": {
        "colab": {
          "base_uri": "https://localhost:8080/",
          "height": 703
        },
        "id": "O1gTKYEeJ87c",
        "outputId": "feef6fb2-0055-4e2c-84fa-dd34aef404c3"
      },
      "execution_count": 227,
      "outputs": [
        {
          "output_type": "execute_result",
          "data": {
            "text/plain": [
              "<matplotlib.axes._subplots.AxesSubplot at 0x7ff1ae2b9d50>"
            ]
          },
          "metadata": {},
          "execution_count": 227
        },
        {
          "output_type": "display_data",
          "data": {
            "text/plain": [
              "<Figure size 1080x360 with 1 Axes>"
            ],
            "image/png": "[encoded data removed]"
          },
          "metadata": {
            "needs_background": "light"
          }
        },
        {
          "output_type": "display_data",
          "data": {
            "text/plain": [
              "<Figure size 432x432 with 1 Axes>"
            ],
            "image/png": "[encoded data removed]"
          },
          "metadata": {}
        }
      ]
    },
    {
      "cell_type": "markdown",
      "source": [
        "**The most affected country from the above dataset is country_01 with around 59% of the accidents with the count of 250**"
      ],
      "metadata": {
        "id": "-POb2mbRKg-z"
      }
    },
    {
      "cell_type": "markdown",
      "source": [
        "#### Local"
      ],
      "metadata": {
        "id": "heb__GjHLQIt"
      }
    },
    {
      "cell_type": "code",
      "source": [
        "plt.figure(figsize=(20,5))\n",
        "plt.subplot(1,2,1)\n",
        "sns.countplot(x=df['Local']);\n",
        "plt.xlabel(\"\\nLocal\")\n",
        "\n",
        "\n",
        "\n",
        "plt.figure(figsize=(8,8))\n",
        "df['Local'].value_counts().plot.pie(shadow=True,autopct='%1.2f%%', labels=['Local_03','Local_05','Local_01','Local_04','Local_06','Local_10',\n",
        "                                                'Local_08','Local_02','Local_07','Local_12','Local_11','Local_09'],  explode=(0.1,0.1,0.1,0.1,0.1,0.1,0.1,0.1,0.1,0.1,0.1,0.1));"
      ],
      "metadata": {
        "colab": {
          "base_uri": "https://localhost:8080/",
          "height": 794
        },
        "id": "CWCm9DoZKTYT",
        "outputId": "7880c2c7-211f-46ba-a69a-f09dbec06c52"
      },
      "execution_count": 228,
      "outputs": [
        {
          "output_type": "display_data",
          "data": {
            "text/plain": [
              "<Figure size 1440x360 with 1 Axes>"
            ],
            "image/png": "[encoded data removed]"
          },
          "metadata": {
            "needs_background": "light"
          }
        },
        {
          "output_type": "display_data",
          "data": {
            "text/plain": [
              "<Figure size 576x576 with 1 Axes>"
            ],
            "image/png": "[encoded data removed]"
          },
          "metadata": {}
        }
      ]
    },
    {
      "cell_type": "markdown",
      "source": [
        "**Most accidents happened in Local_03 .Its count is 90 ,which is equivalent to 21.18%.**\n",
        "**The second Most Accident happens in local_5 which is equivalent to 13.88%.**"
      ],
      "metadata": {
        "id": "9EAeOM_YLgah"
      }
    },
    {
      "cell_type": "markdown",
      "source": [
        "#### Industry Sector"
      ],
      "metadata": {
        "id": "Fu3SRmEVLnIo"
      }
    },
    {
      "cell_type": "code",
      "source": [
        "plt.figure(figsize=(15,5))\n",
        "plt.subplot(1,2,1)\n",
        "sns.countplot(x=df['Industry Sector']);\n",
        "plt.xlabel(\"\\nIndustry Sector\")\n",
        "\n",
        "\n",
        "\n",
        "plt.figure(figsize=(6,6))\n",
        "df['Industry Sector'].value_counts().plot.pie(shadow=True,autopct='%1.2f%%',  explode=(0.1,0.1,0.1));"
      ],
      "metadata": {
        "colab": {
          "base_uri": "https://localhost:8080/",
          "height": 686
        },
        "id": "d92hNLKHKTbX",
        "outputId": "30a7edc8-73a4-448b-bca0-6ccde2f97dd0"
      },
      "execution_count": 229,
      "outputs": [
        {
          "output_type": "display_data",
          "data": {
            "text/plain": [
              "<Figure size 1080x360 with 1 Axes>"
            ],
            "image/png": "[encoded data removed]"
          },
          "metadata": {
            "needs_background": "light"
          }
        },
        {
          "output_type": "display_data",
          "data": {
            "text/plain": [
              "<Figure size 432x432 with 1 Axes>"
            ],
            "image/png": "[encoded data removed]"
          },
          "metadata": {}
        }
      ]
    },
    {
      "cell_type": "markdown",
      "source": [
        "**Mostly affected sector is Mining sector. 56.71% of accidents occur in Mining sector.**"
      ],
      "metadata": {
        "id": "URU-2XZALxfE"
      }
    },
    {
      "cell_type": "markdown",
      "source": [
        "#### Gender"
      ],
      "metadata": {
        "id": "FXRpY59hL1_h"
      }
    },
    {
      "cell_type": "code",
      "source": [
        "plt.figure(figsize=(15,5))\n",
        "plt.subplot(1,2,1)\n",
        "sns.countplot(x=df['Gender']);\n",
        "plt.xlabel(\"\\nGender\")\n",
        "\n",
        "\n",
        "\n",
        "plt.figure(figsize=(6,6))\n",
        "df['Gender'].value_counts().plot.pie(shadow=True,autopct='%1.2f%%',  explode=(0.1,0.1));"
      ],
      "metadata": {
        "colab": {
          "base_uri": "https://localhost:8080/",
          "height": 685
        },
        "id": "gw5CEemXKTeU",
        "outputId": "640abe9c-fd23-4d5e-e0c3-a3d0608a85fe"
      },
      "execution_count": 230,
      "outputs": [
        {
          "output_type": "display_data",
          "data": {
            "text/plain": [
              "<Figure size 1080x360 with 1 Axes>"
            ],
            "image/png": "[encoded data removed]"
          },
          "metadata": {
            "needs_background": "light"
          }
        },
        {
          "output_type": "display_data",
          "data": {
            "text/plain": [
              "<Figure size 432x432 with 1 Axes>"
            ],
            "image/png": "[encoded data removed]"
          },
          "metadata": {}
        }
      ]
    },
    {
      "cell_type": "markdown",
      "source": [
        "**Most affected wokers in accidents are male .Their count is 403 ,which is equivalent to 94.82%**"
      ],
      "metadata": {
        "id": "BsyZuPcGL-VR"
      }
    },
    {
      "cell_type": "markdown",
      "source": [
        "#### Accident Level"
      ],
      "metadata": {
        "id": "-RYglPF1MGnt"
      }
    },
    {
      "cell_type": "code",
      "source": [
        "plt.figure(figsize=(15,5))\n",
        "plt.subplot(1,2,1)\n",
        "sns.countplot(x=df['Accident Level']);\n",
        "plt.xlabel(\"\\nAccident Level\")\n",
        "\n",
        "\n",
        "\n",
        "plt.figure(figsize=(8,8))\n",
        "df['Accident Level'].value_counts().plot.pie(shadow=True,autopct='%1.2f%%',labels=['I', 'II', 'III' ,'IV' ,'V']);"
      ],
      "metadata": {
        "colab": {
          "base_uri": "https://localhost:8080/",
          "height": 794
        },
        "id": "JfCs1el0Lzri",
        "outputId": "b4f589a6-f51a-4e13-9fd4-df4302aaad53"
      },
      "execution_count": 231,
      "outputs": [
        {
          "output_type": "display_data",
          "data": {
            "text/plain": [
              "<Figure size 1080x360 with 1 Axes>"
            ],
            "image/png": "[encoded data removed]"
          },
          "metadata": {
            "needs_background": "light"
          }
        },
        {
          "output_type": "display_data",
          "data": {
            "text/plain": [
              "<Figure size 576x576 with 1 Axes>"
            ],
            "image/png": "[encoded data removed]"
          },
          "metadata": {}
        }
      ]
    },
    {
      "cell_type": "markdown",
      "source": [
        "**Most accidents belongs to \"Accident Level - I\" .Its count is 316 which is equivalent to 74.35%% of total accidents.**"
      ],
      "metadata": {
        "id": "BYCrEctrMKpc"
      }
    },
    {
      "cell_type": "markdown",
      "source": [
        "#### Potential Accident Level"
      ],
      "metadata": {
        "id": "mHaupOqEMR2t"
      }
    },
    {
      "cell_type": "code",
      "source": [
        "plt.figure(figsize=(15,5))\n",
        "plt.subplot(1,2,1)\n",
        "sns.countplot(x=df['Potential Accident Level']);\n",
        "plt.xlabel(\"\\nPotential Accident Level\")\n",
        "\n",
        "\n",
        "\n",
        "plt.figure(figsize=(8,8))\n",
        "df['Potential Accident Level'].value_counts().plot.pie(shadow=True,autopct='%1.2f%%',labels=['IV','III','II','I','V','VI']);"
      ],
      "metadata": {
        "colab": {
          "base_uri": "https://localhost:8080/",
          "height": 794
        },
        "id": "3iMhSqzMLzu9",
        "outputId": "0331426b-dea9-4d3d-aa3b-f92a5e82cf89"
      },
      "execution_count": 232,
      "outputs": [
        {
          "output_type": "display_data",
          "data": {
            "text/plain": [
              "<Figure size 1080x360 with 1 Axes>"
            ],
            "image/png": "[encoded data removed]"
          },
          "metadata": {
            "needs_background": "light"
          }
        },
        {
          "output_type": "display_data",
          "data": {
            "text/plain": [
              "<Figure size 576x576 with 1 Axes>"
            ],
            "image/png": "[encoded data removed]"
          },
          "metadata": {}
        }
      ]
    },
    {
      "cell_type": "markdown",
      "source": [
        "**Most \"Potential Accident Level\" belongs to level IV .Its count is 143 which is equivalent to 33.65% of total potential accidents.**"
      ],
      "metadata": {
        "id": "Xv1ocLGKMhr8"
      }
    },
    {
      "cell_type": "markdown",
      "source": [
        "#### Employee or Third Party"
      ],
      "metadata": {
        "id": "N5jpmBm3OWVH"
      }
    },
    {
      "cell_type": "code",
      "source": [
        "plt.figure(figsize=(15,5))\n",
        "plt.subplot(1,2,1)\n",
        "sns.countplot(x=df['Employee or Third Party']);\n",
        "plt.xlabel(\"\\nEmployee or Third Party\")\n",
        "\n",
        "\n",
        "\n",
        "plt.figure(figsize=(8,8))\n",
        "df['Employee or Third Party'].value_counts().plot.pie(shadow=True,autopct='%1.2f%%');"
      ],
      "metadata": {
        "colab": {
          "base_uri": "https://localhost:8080/",
          "height": 794
        },
        "id": "yATKzHyPOUco",
        "outputId": "b04ef975-2b54-4662-9896-9a183cf9bcd6"
      },
      "execution_count": 233,
      "outputs": [
        {
          "output_type": "display_data",
          "data": {
            "text/plain": [
              "<Figure size 1080x360 with 1 Axes>"
            ],
            "image/png": "[encoded data removed]"
          },
          "metadata": {
            "needs_background": "light"
          }
        },
        {
          "output_type": "display_data",
          "data": {
            "text/plain": [
              "<Figure size 576x576 with 1 Axes>"
            ],
            "image/png": "[encoded data removed]"
          },
          "metadata": {}
        }
      ]
    },
    {
      "cell_type": "markdown",
      "source": [
        "**Most affected Employee type are Third party workers .Their count is 189 ,which is equivalent to 44.47%.**"
      ],
      "metadata": {
        "id": "BmwI3YZ4Oeq-"
      }
    },
    {
      "cell_type": "markdown",
      "source": [
        "### Bivariate Analysis"
      ],
      "metadata": {
        "id": "KcPxSQrHMtRz"
      }
    },
    {
      "cell_type": "code",
      "source": [
        "plt.figure(figsize=(15,6))\n",
        "plt.subplot(1,2,1)\n",
        "plt.title('Countries Countplot by Accident Level')\n",
        "sns.countplot(x='Countries',hue='Accident Level' , data=df );\n",
        "plt.subplot(1,2,2)\n",
        "plt.title('Local Countplot by Accident Level')\n",
        "sns.countplot(x='Local',hue='Accident Level' , data=df);\n",
        "\n",
        "plt.show()"
      ],
      "metadata": {
        "colab": {
          "base_uri": "https://localhost:8080/",
          "height": 405
        },
        "id": "bfA7EtEcLzxn",
        "outputId": "1453264f-b72d-4a60-9c99-dfe7dd462773"
      },
      "execution_count": 234,
      "outputs": [
        {
          "output_type": "display_data",
          "data": {
            "text/plain": [
              "<Figure size 1080x432 with 2 Axes>"
            ],
            "image/png": "[encoded data removed]"
          },
          "metadata": {
            "needs_background": "light"
          }
        }
      ]
    },
    {
      "cell_type": "markdown",
      "source": [
        "### Country Vs Accident Level\n",
        "- Accident level I is highest in all countries.                   \n",
        "- Most accidents happened in Country_01.\n",
        "- Accident level in Country_03 is lesser than other countries.\n",
        "\n",
        "### Local Vs Accident Level\n",
        "- Accident level I is highest in almost all localities.\n",
        "- Accident level I is highest in Local 3.\n",
        "- Local 9,11 and 12 have less accidents level."
      ],
      "metadata": {
        "id": "3QTYbVvkM0Tz"
      }
    },
    {
      "cell_type": "code",
      "source": [
        "plt.figure(figsize=(15,6))\n",
        "plt.subplot(1,2,1)\n",
        "plt.title('Industry Sector Countplot by Accident Level')\n",
        "sns.countplot(x='Industry Sector',hue='Accident Level' , data=df );\n",
        "plt.subplot(1,2,2)\n",
        "plt.title('Gender Countplot by Accident Level')\n",
        "sns.countplot(x='Gender',hue='Accident Level' , data=df);\n",
        "\n",
        "plt.show()"
      ],
      "metadata": {
        "colab": {
          "base_uri": "https://localhost:8080/",
          "height": 404
        },
        "id": "d5S69H_5Lz0U",
        "outputId": "df36eca8-786c-4523-9981-4e855295c210"
      },
      "execution_count": 235,
      "outputs": [
        {
          "output_type": "display_data",
          "data": {
            "text/plain": [
              "<Figure size 1080x432 with 2 Axes>"
            ],
            "image/png": "[encoded data removed]"
          },
          "metadata": {
            "needs_background": "light"
          }
        }
      ]
    },
    {
      "cell_type": "markdown",
      "source": [
        "### Industry Sector Vs Accident Level\n",
        "- Accident level I is highest in all industry sector (Mining, Metals and Other).\n",
        "- Most accidents happened in Mining industry sector.\n",
        "- After Accident Level I ,Level II is Highest among al the Industries.\n",
        "- There are very few cases for Accident level 5.\n",
        "\n",
        "### Gender Vs Accident Level\n",
        "- Accident level I is highest among the Gender.\n",
        "- Most accidents happened with male ones.\n",
        "- There are very few cases With Females.\n"
      ],
      "metadata": {
        "id": "lKbpcfVGNDyP"
      }
    },
    {
      "cell_type": "code",
      "source": [
        "plt.figure(figsize=(15,6))\n",
        "plt.subplot(1,2,1)\n",
        "plt.title('Countries Countplot by Employee')\n",
        "sns.countplot(x=\"Countries\", data=df, hue=\"Employee or Third Party\");\n",
        "plt.subplot(1,2,2)\n",
        "plt.title('Countries Countplot by Gender')\n",
        "sns.countplot(x=\"Countries\", data=df, hue=\"Gender\");"
      ],
      "metadata": {
        "colab": {
          "base_uri": "https://localhost:8080/",
          "height": 405
        },
        "id": "JskQtMWWLz7G",
        "outputId": "99692df7-6a40-4122-c729-e33cb94061bc"
      },
      "execution_count": 236,
      "outputs": [
        {
          "output_type": "display_data",
          "data": {
            "text/plain": [
              "<Figure size 1080x432 with 2 Axes>"
            ],
            "image/png": "[encoded data removed]"
          },
          "metadata": {
            "needs_background": "light"
          }
        }
      ]
    },
    {
      "cell_type": "markdown",
      "source": [
        "### Country vs Employee\n",
        "- Country_01 is highest No. of injuries\n",
        "- Most accidents happened with Third Party .\n",
        "- In Country_02 the most effected ones are Employee\n",
        "- Country_03 has Less injuries as compared to other Countries\n",
        "\n",
        "### Country Vs Gender\n",
        "- Country_01 is highest No. of injuries\n",
        "- Most accidents happened with Males.\n",
        "- In all Countries the males are Getting effected more .\n",
        "- Country_03 has not even single Females "
      ],
      "metadata": {
        "id": "iIpIIHkpNo-o"
      }
    },
    {
      "cell_type": "code",
      "source": [
        "plt.figure(figsize=(15,6))\n",
        "plt.subplot(1,2,1)\n",
        "plt.title('Local Countplot by Employee')\n",
        "sns.countplot(x=\"Local\", data=df, hue=\"Employee or Third Party\");\n",
        "plt.subplot(1,2,2)\n",
        "plt.title('Local Countplot by Industry Sector')\n",
        "sns.countplot(x=\"Local\", data=df, hue=\"Industry Sector\");"
      ],
      "metadata": {
        "colab": {
          "base_uri": "https://localhost:8080/",
          "height": 404
        },
        "id": "ON1XwEOULz9B",
        "outputId": "9829bf04-12bc-4605-8766-be86461758d1"
      },
      "execution_count": 237,
      "outputs": [
        {
          "output_type": "display_data",
          "data": {
            "text/plain": [
              "<Figure size 1080x432 with 2 Axes>"
            ],
            "image/png": "[encoded data removed]"
          },
          "metadata": {
            "needs_background": "light"
          }
        }
      ]
    },
    {
      "cell_type": "markdown",
      "source": [
        "### Local Vs Employees \n",
        "\n",
        "- Local 3 has highest no of Third Party employees\n",
        "- Local 3 has more employees than other localities.\n",
        "- Local 10,11 don't have Third Party (Remote) employees.\n",
        "- Local 8,10,11 don't have Employee and Third Party employees.\n",
        "\n",
        "### Local Vs Industry Sector \n",
        "\n",
        "- Local 3 has highest number of Mining industry sector.\n",
        "- Local 5 has highest number of Metals industry sector.\n",
        "- Local 1,2,3,4,7 has Mining industry sector.\n",
        "- Local 5,6,7,8 has Metals industry sector.\n",
        "- Local 10,11,12 has Others industry sector."
      ],
      "metadata": {
        "id": "5tOq65ABNyNu"
      }
    },
    {
      "cell_type": "markdown",
      "source": [
        "### Step 3: Data preprocessing"
      ],
      "metadata": {
        "id": "VQ4uzOd15haQ"
      }
    },
    {
      "cell_type": "code",
      "source": [
        "#library that contains punctuation\n",
        "#import string\n",
        "#string.punctuation"
      ],
      "metadata": {
        "id": "EWWyVwCwxGi_"
      },
      "execution_count": 238,
      "outputs": []
    },
    {
      "cell_type": "code",
      "source": [
        "#defining the function to remove punctuation\n",
        "#def remove_punctuation(text):\n",
        "    #punctuationfree=\"\".join([i for i in text if i not in string.punctuation])\n",
        "    #return punctuationfree\n"
      ],
      "metadata": {
        "id": "_2XXCyq2x0Rt"
      },
      "execution_count": 239,
      "outputs": []
    },
    {
      "cell_type": "code",
      "source": [
        "#df['Processed_Description']= remove_punctuation(df['Description'])"
      ],
      "metadata": {
        "id": "eH088hOzh7Up"
      },
      "execution_count": 240,
      "outputs": []
    },
    {
      "cell_type": "code",
      "source": [
        "df.head()"
      ],
      "metadata": {
        "colab": {
          "base_uri": "https://localhost:8080/",
          "height": 354
        },
        "id": "kexP_wD2x1Wq",
        "outputId": "0be9ea0f-02dc-43f2-e90b-42146ecd7c07"
      },
      "execution_count": 241,
      "outputs": [
        {
          "output_type": "execute_result",
          "data": {
            "text/plain": [
              "        Date   Countries  Local Industry Sector  Accident Level  \\\n",
              "0 2016-01-01  Country_01      1          Mining               0   \n",
              "1 2016-01-02  Country_02      2          Mining               0   \n",
              "2 2016-01-06  Country_01      3          Mining               0   \n",
              "3 2016-01-08  Country_01      4          Mining               0   \n",
              "4 2016-01-10  Country_01      4          Mining               3   \n",
              "\n",
              "   Potential Accident Level Gender Employee or Third Party  \\\n",
              "0                         3   Male             Third Party   \n",
              "1                         3   Male                Employee   \n",
              "2                         2   Male    Third Party (Remote)   \n",
              "3                         0   Male             Third Party   \n",
              "4                         3   Male             Third Party   \n",
              "\n",
              "         Critical Risk                                        Description  \\\n",
              "0              Pressed  While removing the drill rod of the Jumbo 08 f...   \n",
              "1  Pressurized Systems  During the activation of a sodium sulphide pum...   \n",
              "2         Manual Tools  In the sub-station MILPO located at level +170...   \n",
              "3               Others  Being 9:45 am. approximately in the Nv. 1880 C...   \n",
              "4               Others  Approximately at 11:45 a.m. in circumstances t...   \n",
              "\n",
              "   Year    Month    Weekday  \n",
              "0  2016  January     Friday  \n",
              "1  2016  January   Saturday  \n",
              "2  2016  January  Wednesday  \n",
              "3  2016  January     Friday  \n",
              "4  2016  January     Sunday  "
            ],
            "text/html": [
              "\n",
              "  <div id=\"df-5739aebe-e5de-4f2a-872a-aa8dde678ad2\">\n",
              "    <div class=\"colab-df-container\">\n",
              "      <div>\n",
              "<style scoped>\n",
              "    .dataframe tbody tr th:only-of-type {\n",
              "        vertical-align: middle;\n",
              "    }\n",
              "\n",
              "    .dataframe tbody tr th {\n",
              "        vertical-align: top;\n",
              "    }\n",
              "\n",
              "    .dataframe thead th {\n",
              "        text-align: right;\n",
              "    }\n",
              "</style>\n",
              "<table border=\"1\" class=\"dataframe\">\n",
              "  <thead>\n",
              "    <tr style=\"text-align: right;\">\n",
              "      <th></th>\n",
              "      <th>Date</th>\n",
              "      <th>Countries</th>\n",
              "      <th>Local</th>\n",
              "      <th>Industry Sector</th>\n",
              "      <th>Accident Level</th>\n",
              "      <th>Potential Accident Level</th>\n",
              "      <th>Gender</th>\n",
              "      <th>Employee or Third Party</th>\n",
              "      <th>Critical Risk</th>\n",
              "      <th>Description</th>\n",
              "      <th>Year</th>\n",
              "      <th>Month</th>\n",
              "      <th>Weekday</th>\n",
              "    </tr>\n",
              "  </thead>\n",
              "  <tbody>\n",
              "    <tr>\n",
              "      <th>0</th>\n",
              "      <td>2016-01-01</td>\n",
              "      <td>Country_01</td>\n",
              "      <td>1</td>\n",
              "      <td>Mining</td>\n",
              "      <td>0</td>\n",
              "      <td>3</td>\n",
              "      <td>Male</td>\n",
              "      <td>Third Party</td>\n",
              "      <td>Pressed</td>\n",
              "      <td>While removing the drill rod of the Jumbo 08 f...</td>\n",
              "      <td>2016</td>\n",
              "      <td>January</td>\n",
              "      <td>Friday</td>\n",
              "    </tr>\n",
              "    <tr>\n",
              "      <th>1</th>\n",
              "      <td>2016-01-02</td>\n",
              "      <td>Country_02</td>\n",
              "      <td>2</td>\n",
              "      <td>Mining</td>\n",
              "      <td>0</td>\n",
              "      <td>3</td>\n",
              "      <td>Male</td>\n",
              "      <td>Employee</td>\n",
              "      <td>Pressurized Systems</td>\n",
              "      <td>During the activation of a sodium sulphide pum...</td>\n",
              "      <td>2016</td>\n",
              "      <td>January</td>\n",
              "      <td>Saturday</td>\n",
              "    </tr>\n",
              "    <tr>\n",
              "      <th>2</th>\n",
              "      <td>2016-01-06</td>\n",
              "      <td>Country_01</td>\n",
              "      <td>3</td>\n",
              "      <td>Mining</td>\n",
              "      <td>0</td>\n",
              "      <td>2</td>\n",
              "      <td>Male</td>\n",
              "      <td>Third Party (Remote)</td>\n",
              "      <td>Manual Tools</td>\n",
              "      <td>In the sub-station MILPO located at level +170...</td>\n",
              "      <td>2016</td>\n",
              "      <td>January</td>\n",
              "      <td>Wednesday</td>\n",
              "    </tr>\n",
              "    <tr>\n",
              "      <th>3</th>\n",
              "      <td>2016-01-08</td>\n",
              "      <td>Country_01</td>\n",
              "      <td>4</td>\n",
              "      <td>Mining</td>\n",
              "      <td>0</td>\n",
              "      <td>0</td>\n",
              "      <td>Male</td>\n",
              "      <td>Third Party</td>\n",
              "      <td>Others</td>\n",
              "      <td>Being 9:45 am. approximately in the Nv. 1880 C...</td>\n",
              "      <td>2016</td>\n",
              "      <td>January</td>\n",
              "      <td>Friday</td>\n",
              "    </tr>\n",
              "    <tr>\n",
              "      <th>4</th>\n",
              "      <td>2016-01-10</td>\n",
              "      <td>Country_01</td>\n",
              "      <td>4</td>\n",
              "      <td>Mining</td>\n",
              "      <td>3</td>\n",
              "      <td>3</td>\n",
              "      <td>Male</td>\n",
              "      <td>Third Party</td>\n",
              "      <td>Others</td>\n",
              "      <td>Approximately at 11:45 a.m. in circumstances t...</td>\n",
              "      <td>2016</td>\n",
              "      <td>January</td>\n",
              "      <td>Sunday</td>\n",
              "    </tr>\n",
              "  </tbody>\n",
              "</table>\n",
              "</div>\n",
              "      <button class=\"colab-df-convert\" onclick=\"convertToInteractive('df-5739aebe-e5de-4f2a-872a-aa8dde678ad2')\"\n",
              "              title=\"Convert this dataframe to an interactive table.\"\n",
              "              style=\"display:none;\">\n",
              "        \n",
              "  <svg xmlns=\"http://www.w3.org/2000/svg\" height=\"24px\"viewBox=\"0 0 24 24\"\n",
              "       width=\"24px\">\n",
              "    <path d=\"M0 0h24v24H0V0z\" fill=\"none\"/>\n",
              "    <path d=\"M18.56 5.44l.94 2.06.94-2.06 2.06-.94-2.06-.94-.94-2.06-.94 2.06-2.06.94zm-11 1L8.5 8.5l.94-2.06 2.06-.94-2.06-.94L8.5 2.5l-.94 2.06-2.06.94zm10 10l.94 2.06.94-2.06 2.06-.94-2.06-.94-.94-2.06-.94 2.06-2.06.94z\"/><path d=\"M17.41 7.96l-1.37-1.37c-.4-.4-.92-.59-1.43-.59-.52 0-1.04.2-1.43.59L10.3 9.45l-7.72 7.72c-.78.78-.78 2.05 0 2.83L4 21.41c.39.39.9.59 1.41.59.51 0 1.02-.2 1.41-.59l7.78-7.78 2.81-2.81c.8-.78.8-2.07 0-2.86zM5.41 20L4 18.59l7.72-7.72 1.47 1.35L5.41 20z\"/>\n",
              "  </svg>\n",
              "      </button>\n",
              "      \n",
              "  <style>\n",
              "    .colab-df-container {\n",
              "      display:flex;\n",
              "      flex-wrap:wrap;\n",
              "      gap: 12px;\n",
              "    }\n",
              "\n",
              "    .colab-df-convert {\n",
              "      background-color: #E8F0FE;\n",
              "      border: none;\n",
              "      border-radius: 50%;\n",
              "      cursor: pointer;\n",
              "      display: none;\n",
              "      fill: #1967D2;\n",
              "      height: 32px;\n",
              "      padding: 0 0 0 0;\n",
              "      width: 32px;\n",
              "    }\n",
              "\n",
              "    .colab-df-convert:hover {\n",
              "      background-color: #E2EBFA;\n",
              "      box-shadow: 0px 1px 2px rgba(60, 64, 67, 0.3), 0px 1px 3px 1px rgba(60, 64, 67, 0.15);\n",
              "      fill: #174EA6;\n",
              "    }\n",
              "\n",
              "    [theme=dark] .colab-df-convert {\n",
              "      background-color: #3B4455;\n",
              "      fill: #D2E3FC;\n",
              "    }\n",
              "\n",
              "    [theme=dark] .colab-df-convert:hover {\n",
              "      background-color: #434B5C;\n",
              "      box-shadow: 0px 1px 3px 1px rgba(0, 0, 0, 0.15);\n",
              "      filter: drop-shadow(0px 1px 2px rgba(0, 0, 0, 0.3));\n",
              "      fill: #FFFFFF;\n",
              "    }\n",
              "  </style>\n",
              "\n",
              "      <script>\n",
              "        const buttonEl =\n",
              "          document.querySelector('#df-5739aebe-e5de-4f2a-872a-aa8dde678ad2 button.colab-df-convert');\n",
              "        buttonEl.style.display =\n",
              "          google.colab.kernel.accessAllowed ? 'block' : 'none';\n",
              "\n",
              "        async function convertToInteractive(key) {\n",
              "          const element = document.querySelector('#df-5739aebe-e5de-4f2a-872a-aa8dde678ad2');\n",
              "          const dataTable =\n",
              "            await google.colab.kernel.invokeFunction('convertToInteractive',\n",
              "                                                     [key], {});\n",
              "          if (!dataTable) return;\n",
              "\n",
              "          const docLinkHtml = 'Like what you see? Visit the ' +\n",
              "            '<a target=\"_blank\" href=https://colab.research.google.com/notebooks/data_table.ipynb>data table notebook</a>'\n",
              "            + ' to learn more about interactive tables.';\n",
              "          element.innerHTML = '';\n",
              "          dataTable['output_type'] = 'display_data';\n",
              "          await google.colab.output.renderOutput(dataTable, element);\n",
              "          const docLink = document.createElement('div');\n",
              "          docLink.innerHTML = docLinkHtml;\n",
              "          element.appendChild(docLink);\n",
              "        }\n",
              "      </script>\n",
              "    </div>\n",
              "  </div>\n",
              "  "
            ]
          },
          "metadata": {},
          "execution_count": 241
        }
      ]
    },
    {
      "cell_type": "markdown",
      "source": [
        " #### Expand Contractions"
      ],
      "metadata": {
        "id": "y-8PS0LI0mxb"
      }
    },
    {
      "cell_type": "code",
      "source": [
        "contractions_dict = {\"ain't\": \"are not\",\"'s\":\" is\",\"aren't\": \"are not\"}\n",
        "# Regular expression for finding contractions\n",
        "contractions_re=re.compile('(%s)' % '|'.join(contractions_dict.keys()))\n",
        "def expand_contractions(text,contractions_dict=contractions_dict):\n",
        "    def replace(match):\n",
        "        return contractions_dict[match.group(0)]\n",
        "    return contractions_re.sub(replace, text)\n",
        "# Expanding Contractions in the reviews\n",
        "df['Description']=df['Description'].apply(lambda x:expand_contractions(x))"
      ],
      "metadata": {
        "id": "ZQKrGdlizku3"
      },
      "execution_count": 242,
      "outputs": []
    },
    {
      "cell_type": "markdown",
      "source": [
        "#### Lower Case"
      ],
      "metadata": {
        "id": "z-jmM_zM0qMn"
      }
    },
    {
      "cell_type": "code",
      "source": [
        "df['Description'] = df['Description'].str.lower()"
      ],
      "metadata": {
        "id": "ioOiGmmc0s_g"
      },
      "execution_count": 243,
      "outputs": []
    },
    {
      "cell_type": "markdown",
      "source": [
        "#### Remove punctuations"
      ],
      "metadata": {
        "id": "b4DvttV71c-X"
      }
    },
    {
      "cell_type": "code",
      "source": [
        "df['Description'] = df['Description'].apply(lambda x: re.sub('[%s]' % re.escape(string.punctuation), '' , x))"
      ],
      "metadata": {
        "id": "SUlpqyoK1ezF"
      },
      "execution_count": 244,
      "outputs": []
    },
    {
      "cell_type": "markdown",
      "source": [
        "#### Remove words and digits containing digits"
      ],
      "metadata": {
        "id": "T7DRncIJ1pNs"
      }
    },
    {
      "cell_type": "code",
      "source": [
        "df['Description'] = df['Description'].apply(lambda x: re.sub('W*dw*','',x))"
      ],
      "metadata": {
        "id": "VY7M2cnd1qbR"
      },
      "execution_count": 245,
      "outputs": []
    },
    {
      "cell_type": "markdown",
      "source": [
        "#### Remove Stopwords"
      ],
      "metadata": {
        "id": "17gTtbCd1yVw"
      }
    },
    {
      "cell_type": "code",
      "source": [
        "import nltk\n",
        "nltk.download('wordnet')\n",
        "nltk.download('omw-1.4')"
      ],
      "metadata": {
        "colab": {
          "base_uri": "https://localhost:8080/"
        },
        "id": "6lhq0JHz3wfb",
        "outputId": "80a40545-ebd9-48c2-94c6-a445745ec376"
      },
      "execution_count": 246,
      "outputs": [
        {
          "output_type": "stream",
          "name": "stderr",
          "text": [
            "[nltk_data] Downloading package wordnet to /root/nltk_data...\n",
            "[nltk_data]   Package wordnet is already up-to-date!\n",
            "[nltk_data] Downloading package omw-1.4 to /root/nltk_data...\n",
            "[nltk_data]   Package omw-1.4 is already up-to-date!\n"
          ]
        },
        {
          "output_type": "execute_result",
          "data": {
            "text/plain": [
              "True"
            ]
          },
          "metadata": {},
          "execution_count": 246
        }
      ]
    },
    {
      "cell_type": "code",
      "source": [
        "#remove stopwords\n",
        "from nltk.corpus import stopwords\n",
        "stop_words = set(stopwords.words('english'))\n",
        "stop_words.add('subject')\n",
        "stop_words.add('http')\n",
        "def remove_stopwords(text):\n",
        "    return \" \".join([word for word in str(text).split() if word not in stop_words])\n",
        "df['Description'] = df['Description'].apply(lambda x: remove_stopwords(x))"
      ],
      "metadata": {
        "id": "V7TcrWNW1whF"
      },
      "execution_count": 247,
      "outputs": []
    },
    {
      "cell_type": "markdown",
      "source": [
        "####  Stemming and Lemmatization"
      ],
      "metadata": {
        "id": "5pSJUmw62LWN"
      }
    },
    {
      "cell_type": "code",
      "source": [
        "#stemming\n",
        "from nltk.stem import PorterStemmer\n",
        "stemmer = PorterStemmer()\n",
        "def stem_words(text):\n",
        "    return \" \".join([stemmer.stem(word) for word in text.split()])\n",
        "df['Description'] = df['Description'].apply(lambda x: stem_words(x))"
      ],
      "metadata": {
        "id": "jojhuQnP2MQ6"
      },
      "execution_count": 248,
      "outputs": []
    },
    {
      "cell_type": "code",
      "source": [
        "#lemmatization\n",
        "from nltk.stem import WordNetLemmatizer\n",
        "lemmatizer = WordNetLemmatizer()\n",
        "def lemmatize_words(text):\n",
        "  return \" \".join([lemmatizer.lemmatize(word) for word in text.split()])\n",
        "df['Description'] = df['Description'].apply(lambda text: lemmatize_words(text))"
      ],
      "metadata": {
        "id": "i6gGXJAe2khm"
      },
      "execution_count": 249,
      "outputs": []
    },
    {
      "cell_type": "markdown",
      "source": [
        "#### Remove Extra Spaces"
      ],
      "metadata": {
        "id": "uZjMCc-v35_k"
      }
    },
    {
      "cell_type": "code",
      "source": [
        "df['Description'] = df['Description'].apply(lambda text: re.sub(' +', ' ', text))"
      ],
      "metadata": {
        "id": "YJBA0GrN37QE"
      },
      "execution_count": 250,
      "outputs": []
    },
    {
      "cell_type": "code",
      "source": [
        "#import nltk\n",
        "#nltk.download('stopwords')\n",
        "# Select only alphabets\n",
        "#import re\n",
        "#df.Description = df.Description.apply(lambda x: re.sub('[^A-Za-z]+', ' ', x))\n",
        "\n",
        "# Convert text to lowercase\n",
        "#df.Description = df.Description.apply(lambda x: x.lower())\n",
        "\n",
        "# Strip unwanted spaces\n",
        "#df.Description = df.Description.apply(lambda x: x.strip())\n",
        "\n",
        "# Remove stopwords\n",
        "#from nltk.corpus import stopwords\n",
        "#stopwords = set(stopwords.words('english'))\n",
        "#df.Description = df.Description.apply(lambda x: ' '.join([word for word in x.split() if word not in stopwords]))"
      ],
      "metadata": {
        "id": "idoWCi1qxmrv"
      },
      "execution_count": 251,
      "outputs": []
    },
    {
      "cell_type": "code",
      "source": [
        "df.Description"
      ],
      "metadata": {
        "colab": {
          "base_uri": "https://localhost:8080/"
        },
        "id": "20JcKRDvyljg",
        "outputId": "d2a6e84b-0383-40f6-826b-a2325473e615"
      },
      "execution_count": 252,
      "outputs": [
        {
          "output_type": "execute_result",
          "data": {
            "text/plain": [
              "0      remov rill ro jumbo 08 mainten supervisor proc...\n",
              "1      ure activ soium sulphi pump pipe uncoupl sulfi...\n",
              "2      substat milpo locat level 170 collabor o excav...\n",
              "3      945 approxim nv 1880 cx695 ob7 personnel begin...\n",
              "4      approxim 1145 circumst mechan anthoni group le...\n",
              "                             ...                        \n",
              "420    approxim 500 approxim lift kelli hq towar pull...\n",
              "421    collabor move infrastructur offic julio toilet...\n",
              "422    ure environment monitor activ area employe sur...\n",
              "423    employe perform activ strip catho pull catho s...\n",
              "424    1000 assist clean floor moul e central camp sl...\n",
              "Name: Description, Length: 425, dtype: object"
            ]
          },
          "metadata": {},
          "execution_count": 252
        }
      ]
    },
    {
      "cell_type": "code",
      "source": [
        "#defining function for tokenization\n",
        "#import re\n",
        "#def tokenization(text):\n",
        "    #tokens = re.split('W+',text)\n",
        "   # return tokens\n"
      ],
      "metadata": {
        "id": "jCLUEFPv1O2d"
      },
      "execution_count": 253,
      "outputs": []
    },
    {
      "cell_type": "code",
      "source": [
        "#import nltk\n",
        "#nltk.download('stopwords')"
      ],
      "metadata": {
        "id": "bRh8nR1qcf-t"
      },
      "execution_count": 254,
      "outputs": []
    },
    {
      "cell_type": "code",
      "source": [
        "#Stop words present in the library\n",
        "#stopwords = nltk.corpus.stopwords.words('english')\n",
        "#stopwords[0:10]\n",
        "#['i', 'me', 'my', 'myself', 'we', 'our', 'ours', 'ourselves', 'you', \"you're\"]\n"
      ],
      "metadata": {
        "id": "ZbmdZbDm1T3R"
      },
      "execution_count": 255,
      "outputs": []
    },
    {
      "cell_type": "code",
      "source": [
        "#defining the function to remove stopwords from tokenized text\n",
        "#def remove_stopwords(text):\n",
        "    #output= [i for i in text if i not in stopwords]\n",
        "    #return output"
      ],
      "metadata": {
        "id": "iMaysjN71z2s"
      },
      "execution_count": 256,
      "outputs": []
    },
    {
      "cell_type": "code",
      "source": [
        "#applying the function\n",
        "#df['Processed_Description']= df['Description'].apply(lambda x:remove_stopwords(x))\n"
      ],
      "metadata": {
        "id": "ocOq4MBK1_2z"
      },
      "execution_count": 257,
      "outputs": []
    },
    {
      "cell_type": "code",
      "source": [
        "#importing the Stemming function from nltk library\n",
        "#from nltk.stem.porter import PorterStemmer"
      ],
      "metadata": {
        "id": "8m3lshgqeuPA"
      },
      "execution_count": 258,
      "outputs": []
    },
    {
      "cell_type": "code",
      "source": [
        "#defining the object for stemming\n",
        "#porter_stemmer = PorterStemmer()"
      ],
      "metadata": {
        "id": "DKDer5GDeyFy"
      },
      "execution_count": 259,
      "outputs": []
    },
    {
      "cell_type": "code",
      "source": [
        "#defining a function for stemming\n",
        "#def stemming(text):\n",
        "     #stem_text= [porter_stemmer.stem(word) for word in text]\n",
        "     #return stem_text\n",
        "     #df['Processed_Description']=df['Description'].apply(lambda x: stemming(x))\n"
      ],
      "metadata": {
        "id": "qxOj49fre6WT"
      },
      "execution_count": 260,
      "outputs": []
    },
    {
      "cell_type": "code",
      "source": [
        "#from nltk.stem import WordNetLemmatizer"
      ],
      "metadata": {
        "id": "eirsXBTNgbPy"
      },
      "execution_count": 261,
      "outputs": []
    },
    {
      "cell_type": "code",
      "source": [
        "#defining the object for Lemmatization\n",
        "#wordnet_lemmatizer = WordNetLemmatizer()"
      ],
      "metadata": {
        "id": "wTOmeV-Jhjq5"
      },
      "execution_count": 262,
      "outputs": []
    },
    {
      "cell_type": "code",
      "source": [
        "#defining the function for lemmatization\n",
        "#def lemmatizer(text):\n",
        "    #lemm_text = [wordnet_lemmatizer.lemmatize(word) for word in text]\n",
        "    #return lemm_text\n",
        "    #df['Processed_Description']=df['Description'].apply(lambda x:lemmatizer(x))"
      ],
      "metadata": {
        "id": "BiCPZj-BhoQm"
      },
      "execution_count": 263,
      "outputs": []
    }
  ]
}